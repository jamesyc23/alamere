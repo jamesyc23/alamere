{
 "cells": [
  {
   "cell_type": "markdown",
   "id": "c6f7312a-c53a-4fb1-bfd6-1a6ba4915941",
   "metadata": {},
   "source": [
    "## Prelude"
   ]
  },
  {
   "cell_type": "code",
   "execution_count": 2,
   "id": "c2cddcdc-a39d-4bbe-87ff-ee0dc9eb6f33",
   "metadata": {},
   "outputs": [
    {
     "name": "stdout",
     "output_type": "stream",
     "text": [
      "Requirement already satisfied: datasets in /opt/anaconda3/envs/pytorch_env/lib/python3.8/site-packages (2.19.1)\n",
      "Requirement already satisfied: filelock in /opt/anaconda3/envs/pytorch_env/lib/python3.8/site-packages (from datasets) (3.13.1)\n",
      "Requirement already satisfied: numpy>=1.17 in /opt/anaconda3/envs/pytorch_env/lib/python3.8/site-packages (from datasets) (1.24.3)\n",
      "Requirement already satisfied: pyarrow>=12.0.0 in /opt/anaconda3/envs/pytorch_env/lib/python3.8/site-packages (from datasets) (16.1.0)\n",
      "Requirement already satisfied: pyarrow-hotfix in /opt/anaconda3/envs/pytorch_env/lib/python3.8/site-packages (from datasets) (0.6)\n",
      "Requirement already satisfied: dill<0.3.9,>=0.3.0 in /opt/anaconda3/envs/pytorch_env/lib/python3.8/site-packages (from datasets) (0.3.8)\n",
      "Requirement already satisfied: pandas in /opt/anaconda3/envs/pytorch_env/lib/python3.8/site-packages (from datasets) (2.0.3)\n",
      "Requirement already satisfied: requests>=2.19.0 in /opt/anaconda3/envs/pytorch_env/lib/python3.8/site-packages (from datasets) (2.31.0)\n",
      "Requirement already satisfied: tqdm>=4.62.1 in /opt/anaconda3/envs/pytorch_env/lib/python3.8/site-packages (from datasets) (4.66.4)\n",
      "Requirement already satisfied: xxhash in /opt/anaconda3/envs/pytorch_env/lib/python3.8/site-packages (from datasets) (3.4.1)\n",
      "Requirement already satisfied: multiprocess in /opt/anaconda3/envs/pytorch_env/lib/python3.8/site-packages (from datasets) (0.70.16)\n",
      "Requirement already satisfied: fsspec<=2024.3.1,>=2023.1.0 in /opt/anaconda3/envs/pytorch_env/lib/python3.8/site-packages (from fsspec[http]<=2024.3.1,>=2023.1.0->datasets) (2023.10.0)\n",
      "Requirement already satisfied: aiohttp in /opt/anaconda3/envs/pytorch_env/lib/python3.8/site-packages (from datasets) (3.9.5)\n",
      "Requirement already satisfied: huggingface-hub>=0.21.2 in /opt/anaconda3/envs/pytorch_env/lib/python3.8/site-packages (from datasets) (0.23.0)\n",
      "Requirement already satisfied: packaging in /opt/anaconda3/envs/pytorch_env/lib/python3.8/site-packages (from datasets) (23.2)\n",
      "Requirement already satisfied: pyyaml>=5.1 in /opt/anaconda3/envs/pytorch_env/lib/python3.8/site-packages (from datasets) (6.0.1)\n",
      "Requirement already satisfied: aiosignal>=1.1.2 in /opt/anaconda3/envs/pytorch_env/lib/python3.8/site-packages (from aiohttp->datasets) (1.3.1)\n",
      "Requirement already satisfied: attrs>=17.3.0 in /opt/anaconda3/envs/pytorch_env/lib/python3.8/site-packages (from aiohttp->datasets) (23.1.0)\n",
      "Requirement already satisfied: frozenlist>=1.1.1 in /opt/anaconda3/envs/pytorch_env/lib/python3.8/site-packages (from aiohttp->datasets) (1.4.1)\n",
      "Requirement already satisfied: multidict<7.0,>=4.5 in /opt/anaconda3/envs/pytorch_env/lib/python3.8/site-packages (from aiohttp->datasets) (6.0.5)\n",
      "Requirement already satisfied: yarl<2.0,>=1.0 in /opt/anaconda3/envs/pytorch_env/lib/python3.8/site-packages (from aiohttp->datasets) (1.9.4)\n",
      "Requirement already satisfied: async-timeout<5.0,>=4.0 in /opt/anaconda3/envs/pytorch_env/lib/python3.8/site-packages (from aiohttp->datasets) (4.0.3)\n",
      "Requirement already satisfied: typing-extensions>=3.7.4.3 in /opt/anaconda3/envs/pytorch_env/lib/python3.8/site-packages (from huggingface-hub>=0.21.2->datasets) (4.9.0)\n",
      "Requirement already satisfied: charset-normalizer<4,>=2 in /opt/anaconda3/envs/pytorch_env/lib/python3.8/site-packages (from requests>=2.19.0->datasets) (2.0.4)\n",
      "Requirement already satisfied: idna<4,>=2.5 in /opt/anaconda3/envs/pytorch_env/lib/python3.8/site-packages (from requests>=2.19.0->datasets) (3.4)\n",
      "Requirement already satisfied: urllib3<3,>=1.21.1 in /opt/anaconda3/envs/pytorch_env/lib/python3.8/site-packages (from requests>=2.19.0->datasets) (2.1.0)\n",
      "Requirement already satisfied: certifi>=2017.4.17 in /opt/anaconda3/envs/pytorch_env/lib/python3.8/site-packages (from requests>=2.19.0->datasets) (2024.2.2)\n",
      "Requirement already satisfied: python-dateutil>=2.8.2 in /opt/anaconda3/envs/pytorch_env/lib/python3.8/site-packages (from pandas->datasets) (2.8.2)\n",
      "Requirement already satisfied: pytz>=2020.1 in /opt/anaconda3/envs/pytorch_env/lib/python3.8/site-packages (from pandas->datasets) (2023.3.post1)\n",
      "Requirement already satisfied: tzdata>=2022.1 in /opt/anaconda3/envs/pytorch_env/lib/python3.8/site-packages (from pandas->datasets) (2024.1)\n",
      "Requirement already satisfied: six>=1.5 in /opt/anaconda3/envs/pytorch_env/lib/python3.8/site-packages (from python-dateutil>=2.8.2->pandas->datasets) (1.16.0)\n",
      "Note: you may need to restart the kernel to use updated packages.\n",
      "Requirement already satisfied: matplotlib in /opt/anaconda3/envs/pytorch_env/lib/python3.8/site-packages (3.7.5)\n",
      "Requirement already satisfied: contourpy>=1.0.1 in /opt/anaconda3/envs/pytorch_env/lib/python3.8/site-packages (from matplotlib) (1.1.1)\n",
      "Requirement already satisfied: cycler>=0.10 in /opt/anaconda3/envs/pytorch_env/lib/python3.8/site-packages (from matplotlib) (0.12.1)\n",
      "Requirement already satisfied: fonttools>=4.22.0 in /opt/anaconda3/envs/pytorch_env/lib/python3.8/site-packages (from matplotlib) (4.51.0)\n",
      "Requirement already satisfied: kiwisolver>=1.0.1 in /opt/anaconda3/envs/pytorch_env/lib/python3.8/site-packages (from matplotlib) (1.4.5)\n",
      "Requirement already satisfied: numpy<2,>=1.20 in /opt/anaconda3/envs/pytorch_env/lib/python3.8/site-packages (from matplotlib) (1.24.3)\n",
      "Requirement already satisfied: packaging>=20.0 in /opt/anaconda3/envs/pytorch_env/lib/python3.8/site-packages (from matplotlib) (23.2)\n",
      "Requirement already satisfied: pillow>=6.2.0 in /opt/anaconda3/envs/pytorch_env/lib/python3.8/site-packages (from matplotlib) (10.2.0)\n",
      "Requirement already satisfied: pyparsing>=2.3.1 in /opt/anaconda3/envs/pytorch_env/lib/python3.8/site-packages (from matplotlib) (3.1.2)\n",
      "Requirement already satisfied: python-dateutil>=2.7 in /opt/anaconda3/envs/pytorch_env/lib/python3.8/site-packages (from matplotlib) (2.8.2)\n",
      "Requirement already satisfied: importlib-resources>=3.2.0 in /opt/anaconda3/envs/pytorch_env/lib/python3.8/site-packages (from matplotlib) (6.1.1)\n",
      "Requirement already satisfied: zipp>=3.1.0 in /opt/anaconda3/envs/pytorch_env/lib/python3.8/site-packages (from importlib-resources>=3.2.0->matplotlib) (3.17.0)\n",
      "Requirement already satisfied: six>=1.5 in /opt/anaconda3/envs/pytorch_env/lib/python3.8/site-packages (from python-dateutil>=2.7->matplotlib) (1.16.0)\n",
      "Note: you may need to restart the kernel to use updated packages.\n",
      "Requirement already satisfied: piecewise-regression in /opt/anaconda3/envs/pytorch_env/lib/python3.8/site-packages (1.5.0)\n",
      "Requirement already satisfied: numpy in /opt/anaconda3/envs/pytorch_env/lib/python3.8/site-packages (from piecewise-regression) (1.24.3)\n",
      "Requirement already satisfied: matplotlib in /opt/anaconda3/envs/pytorch_env/lib/python3.8/site-packages (from piecewise-regression) (3.7.5)\n",
      "Requirement already satisfied: scipy in /opt/anaconda3/envs/pytorch_env/lib/python3.8/site-packages (from piecewise-regression) (1.10.1)\n",
      "Requirement already satisfied: statsmodels in /opt/anaconda3/envs/pytorch_env/lib/python3.8/site-packages (from piecewise-regression) (0.14.1)\n",
      "Requirement already satisfied: contourpy>=1.0.1 in /opt/anaconda3/envs/pytorch_env/lib/python3.8/site-packages (from matplotlib->piecewise-regression) (1.1.1)\n",
      "Requirement already satisfied: cycler>=0.10 in /opt/anaconda3/envs/pytorch_env/lib/python3.8/site-packages (from matplotlib->piecewise-regression) (0.12.1)\n",
      "Requirement already satisfied: fonttools>=4.22.0 in /opt/anaconda3/envs/pytorch_env/lib/python3.8/site-packages (from matplotlib->piecewise-regression) (4.51.0)\n",
      "Requirement already satisfied: kiwisolver>=1.0.1 in /opt/anaconda3/envs/pytorch_env/lib/python3.8/site-packages (from matplotlib->piecewise-regression) (1.4.5)\n",
      "Requirement already satisfied: packaging>=20.0 in /opt/anaconda3/envs/pytorch_env/lib/python3.8/site-packages (from matplotlib->piecewise-regression) (23.2)\n",
      "Requirement already satisfied: pillow>=6.2.0 in /opt/anaconda3/envs/pytorch_env/lib/python3.8/site-packages (from matplotlib->piecewise-regression) (10.2.0)\n",
      "Requirement already satisfied: pyparsing>=2.3.1 in /opt/anaconda3/envs/pytorch_env/lib/python3.8/site-packages (from matplotlib->piecewise-regression) (3.1.2)\n",
      "Requirement already satisfied: python-dateutil>=2.7 in /opt/anaconda3/envs/pytorch_env/lib/python3.8/site-packages (from matplotlib->piecewise-regression) (2.8.2)\n",
      "Requirement already satisfied: importlib-resources>=3.2.0 in /opt/anaconda3/envs/pytorch_env/lib/python3.8/site-packages (from matplotlib->piecewise-regression) (6.1.1)\n",
      "Requirement already satisfied: pandas!=2.1.0,>=1.0 in /opt/anaconda3/envs/pytorch_env/lib/python3.8/site-packages (from statsmodels->piecewise-regression) (2.0.3)\n",
      "Requirement already satisfied: patsy>=0.5.4 in /opt/anaconda3/envs/pytorch_env/lib/python3.8/site-packages (from statsmodels->piecewise-regression) (0.5.6)\n",
      "Requirement already satisfied: zipp>=3.1.0 in /opt/anaconda3/envs/pytorch_env/lib/python3.8/site-packages (from importlib-resources>=3.2.0->matplotlib->piecewise-regression) (3.17.0)\n",
      "Requirement already satisfied: pytz>=2020.1 in /opt/anaconda3/envs/pytorch_env/lib/python3.8/site-packages (from pandas!=2.1.0,>=1.0->statsmodels->piecewise-regression) (2023.3.post1)\n",
      "Requirement already satisfied: tzdata>=2022.1 in /opt/anaconda3/envs/pytorch_env/lib/python3.8/site-packages (from pandas!=2.1.0,>=1.0->statsmodels->piecewise-regression) (2024.1)\n",
      "Requirement already satisfied: six in /opt/anaconda3/envs/pytorch_env/lib/python3.8/site-packages (from patsy>=0.5.4->statsmodels->piecewise-regression) (1.16.0)\n",
      "Note: you may need to restart the kernel to use updated packages.\n"
     ]
    }
   ],
   "source": [
    "%pip install datasets\n",
    "%pip install matplotlib\n",
    "%pip install piecewise-regression"
   ]
  },
  {
   "cell_type": "code",
   "execution_count": 3,
   "id": "96fc8848-7a28-4754-aca6-106d83640cb6",
   "metadata": {},
   "outputs": [],
   "source": [
    "import numpy as np\n",
    "import pandas as pd\n",
    "from tqdm import tqdm\n",
    "tqdm.pandas()\n",
    "import matplotlib.pyplot as plt\n",
    "import os\n",
    "import json\n",
    "import piecewise_regression\n",
    "\n",
    "from datasets import load_dataset\n",
    "\n",
    "from math import exp"
   ]
  },
  {
   "cell_type": "code",
   "execution_count": 4,
   "id": "615bcdaa",
   "metadata": {},
   "outputs": [],
   "source": [
    "SEED = 42"
   ]
  },
  {
   "cell_type": "code",
   "execution_count": 5,
   "id": "3b842c6c",
   "metadata": {},
   "outputs": [],
   "source": [
    "from calibration_dataset import CalibrationDataset\n",
    "from calibration_run import CalibrationRun"
   ]
  },
  {
   "cell_type": "markdown",
   "id": "1015a5b1",
   "metadata": {},
   "source": [
    "### GSM8K-specific"
   ]
  },
  {
   "cell_type": "code",
   "execution_count": 6,
   "id": "99e2080f",
   "metadata": {},
   "outputs": [],
   "source": [
    "gsm8k_df = pd.DataFrame(load_dataset(\"gsm8k\", \"main\")[\"test\"])"
   ]
  },
  {
   "cell_type": "markdown",
   "id": "9ff2f76c",
   "metadata": {},
   "source": [
    "### MATH-specific"
   ]
  },
  {
   "cell_type": "code",
   "execution_count": 7,
   "id": "abda6923",
   "metadata": {},
   "outputs": [
    {
     "name": "stdout",
     "output_type": "stream",
     "text": [
      "Collecting git+https://github.com/hendrycks/math.git\n",
      "  Cloning https://github.com/hendrycks/math.git to /private/var/folders/cd/tvz6m38s0sj69mjqw_mcf4sc0000gn/T/pip-req-build-3972tc6o\n",
      "  Running command git clone --filter=blob:none --quiet https://github.com/hendrycks/math.git /private/var/folders/cd/tvz6m38s0sj69mjqw_mcf4sc0000gn/T/pip-req-build-3972tc6o\n",
      "  Resolved https://github.com/hendrycks/math.git to commit 357963a7f5501a6c1708cf3f3fb0cdf525642761\n",
      "  Preparing metadata (setup.py) ... \u001b[?25ldone\n",
      "\u001b[?25hNote: you may need to restart the kernel to use updated packages.\n"
     ]
    }
   ],
   "source": [
    "%pip install git+https://github.com/hendrycks/math.git"
   ]
  },
  {
   "cell_type": "code",
   "execution_count": 8,
   "id": "eeb3870a",
   "metadata": {},
   "outputs": [],
   "source": [
    "from math_equivalence import is_equiv as boxed_answer_is_equiv"
   ]
  },
  {
   "cell_type": "code",
   "execution_count": 9,
   "id": "a4a3432a",
   "metadata": {},
   "outputs": [],
   "source": [
    "def cost_acc_curve_points(confidence_estimator, run1, run2, cost1, cost2):\n",
    "    run1_confs = run1.get_confs(confidence_estimator)\n",
    "    run2_acc = 0.88\n",
    "\n",
    "    curve_points = []\n",
    "    for conf_threshold in np.linspace(0, 1, 100):\n",
    "        attempts_meeting_conf_threshold = run1_confs[run1_confs[confidence_estimator] >= conf_threshold]\n",
    "        pct_meeting_conf_threshold = len(attempts_meeting_conf_threshold) / len(run1_confs)\n",
    "        cost = cost1 + cost2 * (1 - pct_meeting_conf_threshold)\n",
    "        acc = attempts_meeting_conf_threshold['correct'].mean() * pct_meeting_conf_threshold + (run2_acc - pct_meeting_conf_threshold)\n",
    "        curve_points.append((conf_threshold, cost, acc))\n",
    "\n",
    "    return pd.DataFrame(data=curve_points, columns=['conf_threshold', 'cost', 'acc'])"
   ]
  },
  {
   "cell_type": "markdown",
   "id": "297cb7d0",
   "metadata": {},
   "source": [
    "## GSM8K"
   ]
  },
  {
   "cell_type": "code",
   "execution_count": 10,
   "id": "67509811",
   "metadata": {},
   "outputs": [],
   "source": [
    "def gsm8k_str_to_num_parser(s : str) -> float:\n",
    "    if isinstance(s, float) or isinstance(s, int):\n",
    "        return s\n",
    "    try:\n",
    "        ending = s.split(\"####\")[-1]\n",
    "        strip_non_numbers = \"\".join((c for c in ending if (c in \"1234567890.-\")))\n",
    "        return float(strip_non_numbers)\n",
    "    except Exception as e:\n",
    "        return float(\"nan\")\n",
    "    \n",
    "def gsm8k_is_equiv(s1, s2):\n",
    "    return gsm8k_str_to_num_parser(s1) == gsm8k_str_to_num_parser(s2)\n",
    "    \n",
    "def gsm8k_get_prompt_content(question, examples_text):\n",
    "    return (\n",
    "        \"Please answer the following question.\\n\\n\"\n",
    "        + f\"Question: {question}\\n\\n\"\n",
    "        + \"Please give your reasoning, then output your final answer as a single number immediately preceded by #### with nothing after.\\n\\n\"\n",
    "        + f\"Examples:\\n\\n{examples_text}\"\n",
    "    )\n",
    "\n",
    "def gsm8k_get_tokens_prob(logprobs):\n",
    "    token_count = 0\n",
    "    for token in logprobs['tokens'][::-1][1:]:\n",
    "        if token == \"####\":\n",
    "            break\n",
    "        token_count += 1\n",
    "    tokens_prob = exp(sum(logprobs['token_logprobs'][-(token_count):-1]))\n",
    "    return tokens_prob"
   ]
  },
  {
   "cell_type": "code",
   "execution_count": 15,
   "id": "87a178d4",
   "metadata": {},
   "outputs": [],
   "source": [
    "gsm8k_all = CalibrationDataset(\n",
    "    dataset_name=\"gsm8k_all\",\n",
    "    df = gsm8k_df,\n",
    "    is_equiv = gsm8k_is_equiv,\n",
    "    get_value_from_response=gsm8k_str_to_num_parser,\n",
    "    get_prompt_content=gsm8k_get_prompt_content,\n",
    "    get_value_tokens_prob=gsm8k_get_tokens_prob,\n",
    "    seed=SEED,\n",
    ")"
   ]
  },
  {
   "cell_type": "markdown",
   "id": "bef322b2",
   "metadata": {},
   "source": [
    "### All 8B"
   ]
  },
  {
   "cell_type": "code",
   "execution_count": 16,
   "id": "a0bedbe0",
   "metadata": {},
   "outputs": [
    {
     "name": "stdout",
     "output_type": "stream",
     "text": [
      "Lines dropped: 0\n"
     ]
    },
    {
     "name": "stderr",
     "output_type": "stream",
     "text": [
      "100%|██████████| 26380/26380 [00:00<00:00, 161502.58it/s]\n"
     ]
    }
   ],
   "source": [
    "gsm8k_all_llama3_8b = CalibrationRun(\n",
    "    dataset=gsm8k_all,\n",
    "    model_name=\"meta-llama/Meta-Llama-3-8B-Instruct\",\n",
    "    num_questions=1319,\n",
    "    num_attempts_per_question=20,\n",
    "    num_shots=5,\n",
    "    max_response_tokens=1000,\n",
    "    requests_file_path=\"requests/gsm8k_all_llama3_8b.jsonl\",\n",
    "    results_file_pattern=\"results/gsm8k_all_llama3_8b.jsonl*\",\n",
    ")\n",
    "# gsm8k_all_llama3_8b.write_requests_file()\n",
    "gsm8k_all_llama3_8b.read_results_file()"
   ]
  },
  {
   "cell_type": "code",
   "execution_count": 17,
   "id": "a0056073",
   "metadata": {},
   "outputs": [
    {
     "data": {
      "image/png": "[encoded data removed]",
      "text/plain": [
       "<Figure size 640x480 with 1 Axes>"
      ]
     },
     "metadata": {},
     "output_type": "display_data"
    }
   ],
   "source": [
    "gsm8k_all_llama3_8b.plot_estimated_confidence_vs_accuracy(confidence_estimator=\"all_tokens_logprob_conf\", qa_pairs_per_bin=1000)"
   ]
  },
  {
   "cell_type": "code",
   "execution_count": 18,
   "id": "bdba1879",
   "metadata": {},
   "outputs": [
    {
     "data": {
      "text/plain": [
       "[<matplotlib.lines.Line2D at 0x39b9e22b0>]"
      ]
     },
     "execution_count": 18,
     "metadata": {},
     "output_type": "execute_result"
    },
    {
     "data": {
      "image/png": "[encoded data removed]",
      "text/plain": [
       "<Figure size 640x480 with 1 Axes>"
      ]
     },
     "metadata": {},
     "output_type": "display_data"
    }
   ],
   "source": [
    "test = cost_acc_curve_points(\"all_tokens_logprob_conf\", gsm8k_all_llama3_8b, None, 0.12, 0.8)\n",
    "plt.plot(test['cost'], test['acc'])"
   ]
  },
  {
   "cell_type": "markdown",
   "id": "195dfb2f",
   "metadata": {},
   "source": [
    "### All 70B"
   ]
  },
  {
   "cell_type": "code",
   "execution_count": 20,
   "id": "427a1c24",
   "metadata": {},
   "outputs": [
    {
     "name": "stdout",
     "output_type": "stream",
     "text": [
      "Lines dropped: 0\n"
     ]
    },
    {
     "ename": "KeyError",
     "evalue": "'response'",
     "output_type": "error",
     "traceback": [
      "\u001b[0;31m---------------------------------------------------------------------------\u001b[0m",
      "\u001b[0;31mKeyError\u001b[0m                                  Traceback (most recent call last)",
      "File \u001b[0;32m/opt/anaconda3/envs/pytorch_env/lib/python3.8/site-packages/pandas/core/indexes/base.py:3653\u001b[0m, in \u001b[0;36mIndex.get_loc\u001b[0;34m(self, key)\u001b[0m\n\u001b[1;32m   3652\u001b[0m \u001b[38;5;28;01mtry\u001b[39;00m:\n\u001b[0;32m-> 3653\u001b[0m     \u001b[38;5;28;01mreturn\u001b[39;00m \u001b[38;5;28;43mself\u001b[39;49m\u001b[38;5;241;43m.\u001b[39;49m\u001b[43m_engine\u001b[49m\u001b[38;5;241;43m.\u001b[39;49m\u001b[43mget_loc\u001b[49m\u001b[43m(\u001b[49m\u001b[43mcasted_key\u001b[49m\u001b[43m)\u001b[49m\n\u001b[1;32m   3654\u001b[0m \u001b[38;5;28;01mexcept\u001b[39;00m \u001b[38;5;167;01mKeyError\u001b[39;00m \u001b[38;5;28;01mas\u001b[39;00m err:\n",
      "File \u001b[0;32m/opt/anaconda3/envs/pytorch_env/lib/python3.8/site-packages/pandas/_libs/index.pyx:147\u001b[0m, in \u001b[0;36mpandas._libs.index.IndexEngine.get_loc\u001b[0;34m()\u001b[0m\n",
      "File \u001b[0;32m/opt/anaconda3/envs/pytorch_env/lib/python3.8/site-packages/pandas/_libs/index.pyx:176\u001b[0m, in \u001b[0;36mpandas._libs.index.IndexEngine.get_loc\u001b[0;34m()\u001b[0m\n",
      "File \u001b[0;32mpandas/_libs/hashtable_class_helper.pxi:7080\u001b[0m, in \u001b[0;36mpandas._libs.hashtable.PyObjectHashTable.get_item\u001b[0;34m()\u001b[0m\n",
      "File \u001b[0;32mpandas/_libs/hashtable_class_helper.pxi:7088\u001b[0m, in \u001b[0;36mpandas._libs.hashtable.PyObjectHashTable.get_item\u001b[0;34m()\u001b[0m\n",
      "\u001b[0;31mKeyError\u001b[0m: 'response'",
      "\nThe above exception was the direct cause of the following exception:\n",
      "\u001b[0;31mKeyError\u001b[0m                                  Traceback (most recent call last)",
      "Cell \u001b[0;32mIn[20], line 12\u001b[0m\n\u001b[1;32m      1\u001b[0m gsm8k_all_llama3_70b \u001b[38;5;241m=\u001b[39m CalibrationRun(\n\u001b[1;32m      2\u001b[0m     dataset\u001b[38;5;241m=\u001b[39mgsm8k_all,\n\u001b[1;32m      3\u001b[0m     model_name\u001b[38;5;241m=\u001b[39m\u001b[38;5;124m\"\u001b[39m\u001b[38;5;124mmeta-llama/Meta-Llama-3-70B-Instruct\u001b[39m\u001b[38;5;124m\"\u001b[39m,\n\u001b[0;32m   (...)\u001b[0m\n\u001b[1;32m      9\u001b[0m     results_file_pattern\u001b[38;5;241m=\u001b[39m\u001b[38;5;124m\"\u001b[39m\u001b[38;5;124mresults/gsm8k_all_llama3_70b.jsonl*\u001b[39m\u001b[38;5;124m\"\u001b[39m,\n\u001b[1;32m     10\u001b[0m )\n\u001b[1;32m     11\u001b[0m \u001b[38;5;66;03m# gsm8k_all_llama3_70b.write_requests_file()\u001b[39;00m\n\u001b[0;32m---> 12\u001b[0m \u001b[43mgsm8k_all_llama3_70b\u001b[49m\u001b[38;5;241;43m.\u001b[39;49m\u001b[43mread_results_file\u001b[49m\u001b[43m(\u001b[49m\u001b[43m)\u001b[49m\n",
      "File \u001b[0;32m~/Desktop/Projects/confidence/calibration_run.py:77\u001b[0m, in \u001b[0;36mCalibrationRun.read_results_file\u001b[0;34m(self)\u001b[0m\n\u001b[1;32m     75\u001b[0m df \u001b[38;5;241m=\u001b[39m pd\u001b[38;5;241m.\u001b[39mDataFrame\u001b[38;5;241m.\u001b[39mfrom_dict(lines)\n\u001b[1;32m     76\u001b[0m df[\u001b[38;5;124m\"\u001b[39m\u001b[38;5;124mq_id\u001b[39m\u001b[38;5;124m\"\u001b[39m] \u001b[38;5;241m=\u001b[39m df[\u001b[38;5;124m\"\u001b[39m\u001b[38;5;124mcustom_id\u001b[39m\u001b[38;5;124m\"\u001b[39m]\u001b[38;5;241m.\u001b[39mstr\u001b[38;5;241m.\u001b[39msplit(\u001b[38;5;124m\"\u001b[39m\u001b[38;5;124m_\u001b[39m\u001b[38;5;124m\"\u001b[39m)\u001b[38;5;241m.\u001b[39mstr[\u001b[38;5;241m3\u001b[39m]\u001b[38;5;241m.\u001b[39mastype(\u001b[38;5;28mint\u001b[39m)\n\u001b[0;32m---> 77\u001b[0m df[\u001b[38;5;124m\"\u001b[39m\u001b[38;5;124mattempt\u001b[39m\u001b[38;5;124m\"\u001b[39m] \u001b[38;5;241m=\u001b[39m \u001b[43mdf\u001b[49m\u001b[43m[\u001b[49m\u001b[38;5;124;43m\"\u001b[39;49m\u001b[38;5;124;43mresponse\u001b[39;49m\u001b[38;5;124;43m\"\u001b[39;49m\u001b[43m]\u001b[49m\u001b[38;5;241m.\u001b[39mapply(\n\u001b[1;32m     78\u001b[0m     \u001b[38;5;28;01mlambda\u001b[39;00m r: r[\u001b[38;5;124m'\u001b[39m\u001b[38;5;124mchoices\u001b[39m\u001b[38;5;124m'\u001b[39m][\u001b[38;5;241m0\u001b[39m][\u001b[38;5;124m'\u001b[39m\u001b[38;5;124mmessage\u001b[39m\u001b[38;5;124m'\u001b[39m][\u001b[38;5;124m'\u001b[39m\u001b[38;5;124mcontent\u001b[39m\u001b[38;5;124m'\u001b[39m]\n\u001b[1;32m     79\u001b[0m )\n\u001b[1;32m     80\u001b[0m df[\u001b[38;5;124m'\u001b[39m\u001b[38;5;124mattempt_value\u001b[39m\u001b[38;5;124m'\u001b[39m] \u001b[38;5;241m=\u001b[39m df[\u001b[38;5;124m'\u001b[39m\u001b[38;5;124mattempt\u001b[39m\u001b[38;5;124m'\u001b[39m]\u001b[38;5;241m.\u001b[39mapply(\u001b[38;5;28mself\u001b[39m\u001b[38;5;241m.\u001b[39mdataset\u001b[38;5;241m.\u001b[39mget_value_from_response)\n\u001b[1;32m     81\u001b[0m df[\u001b[38;5;124m'\u001b[39m\u001b[38;5;124mvalue_tokens_prob\u001b[39m\u001b[38;5;124m'\u001b[39m] \u001b[38;5;241m=\u001b[39m df[\u001b[38;5;124m'\u001b[39m\u001b[38;5;124mresponse\u001b[39m\u001b[38;5;124m'\u001b[39m]\u001b[38;5;241m.\u001b[39mapply(\u001b[38;5;28;01mlambda\u001b[39;00m r: \u001b[38;5;28mself\u001b[39m\u001b[38;5;241m.\u001b[39mdataset\u001b[38;5;241m.\u001b[39mget_value_tokens_prob(r[\u001b[38;5;124m'\u001b[39m\u001b[38;5;124mchoices\u001b[39m\u001b[38;5;124m'\u001b[39m][\u001b[38;5;241m0\u001b[39m][\u001b[38;5;124m'\u001b[39m\u001b[38;5;124mlogprobs\u001b[39m\u001b[38;5;124m'\u001b[39m]))\n",
      "File \u001b[0;32m/opt/anaconda3/envs/pytorch_env/lib/python3.8/site-packages/pandas/core/frame.py:3761\u001b[0m, in \u001b[0;36mDataFrame.__getitem__\u001b[0;34m(self, key)\u001b[0m\n\u001b[1;32m   3759\u001b[0m \u001b[38;5;28;01mif\u001b[39;00m \u001b[38;5;28mself\u001b[39m\u001b[38;5;241m.\u001b[39mcolumns\u001b[38;5;241m.\u001b[39mnlevels \u001b[38;5;241m>\u001b[39m \u001b[38;5;241m1\u001b[39m:\n\u001b[1;32m   3760\u001b[0m     \u001b[38;5;28;01mreturn\u001b[39;00m \u001b[38;5;28mself\u001b[39m\u001b[38;5;241m.\u001b[39m_getitem_multilevel(key)\n\u001b[0;32m-> 3761\u001b[0m indexer \u001b[38;5;241m=\u001b[39m \u001b[38;5;28;43mself\u001b[39;49m\u001b[38;5;241;43m.\u001b[39;49m\u001b[43mcolumns\u001b[49m\u001b[38;5;241;43m.\u001b[39;49m\u001b[43mget_loc\u001b[49m\u001b[43m(\u001b[49m\u001b[43mkey\u001b[49m\u001b[43m)\u001b[49m\n\u001b[1;32m   3762\u001b[0m \u001b[38;5;28;01mif\u001b[39;00m is_integer(indexer):\n\u001b[1;32m   3763\u001b[0m     indexer \u001b[38;5;241m=\u001b[39m [indexer]\n",
      "File \u001b[0;32m/opt/anaconda3/envs/pytorch_env/lib/python3.8/site-packages/pandas/core/indexes/base.py:3655\u001b[0m, in \u001b[0;36mIndex.get_loc\u001b[0;34m(self, key)\u001b[0m\n\u001b[1;32m   3653\u001b[0m     \u001b[38;5;28;01mreturn\u001b[39;00m \u001b[38;5;28mself\u001b[39m\u001b[38;5;241m.\u001b[39m_engine\u001b[38;5;241m.\u001b[39mget_loc(casted_key)\n\u001b[1;32m   3654\u001b[0m \u001b[38;5;28;01mexcept\u001b[39;00m \u001b[38;5;167;01mKeyError\u001b[39;00m \u001b[38;5;28;01mas\u001b[39;00m err:\n\u001b[0;32m-> 3655\u001b[0m     \u001b[38;5;28;01mraise\u001b[39;00m \u001b[38;5;167;01mKeyError\u001b[39;00m(key) \u001b[38;5;28;01mfrom\u001b[39;00m \u001b[38;5;21;01merr\u001b[39;00m\n\u001b[1;32m   3656\u001b[0m \u001b[38;5;28;01mexcept\u001b[39;00m \u001b[38;5;167;01mTypeError\u001b[39;00m:\n\u001b[1;32m   3657\u001b[0m     \u001b[38;5;66;03m# If we have a listlike key, _check_indexing_error will raise\u001b[39;00m\n\u001b[1;32m   3658\u001b[0m     \u001b[38;5;66;03m#  InvalidIndexError. Otherwise we fall through and re-raise\u001b[39;00m\n\u001b[1;32m   3659\u001b[0m     \u001b[38;5;66;03m#  the TypeError.\u001b[39;00m\n\u001b[1;32m   3660\u001b[0m     \u001b[38;5;28mself\u001b[39m\u001b[38;5;241m.\u001b[39m_check_indexing_error(key)\n",
      "\u001b[0;31mKeyError\u001b[0m: 'response'"
     ]
    }
   ],
   "source": [
    "gsm8k_all_llama3_70b = CalibrationRun(\n",
    "    dataset=gsm8k_all,\n",
    "    model_name=\"meta-llama/Meta-Llama-3-70B-Instruct\",\n",
    "    num_questions=1319,\n",
    "    num_attempts_per_question=20,\n",
    "    num_shots=5,\n",
    "    max_response_tokens=1000,\n",
    "    requests_file_path=\"requests/gsm8k_all_llama3_70b.jsonl\",\n",
    "    results_file_pattern=\"results/gsm8k_all_llama3_70b.jsonl*\",\n",
    ")\n",
    "# gsm8k_all_llama3_70b.write_requests_file()\n",
    "gsm8k_all_llama3_70b.read_results_file()"
   ]
  },
  {
   "cell_type": "markdown",
   "id": "2ea5027f",
   "metadata": {},
   "source": [
    "### Cost-Accuracy Tradeoff"
   ]
  },
  {
   "cell_type": "code",
   "execution_count": null,
   "id": "c4f78800",
   "metadata": {},
   "outputs": [],
   "source": []
  },
  {
   "cell_type": "markdown",
   "id": "73680833",
   "metadata": {},
   "source": [
    "### Other GSM8K"
   ]
  },
  {
   "cell_type": "code",
   "execution_count": 235,
   "id": "dbb8da9d",
   "metadata": {},
   "outputs": [
    {
     "name": "stdout",
     "output_type": "stream",
     "text": [
      "Lines dropped: 0\n"
     ]
    },
    {
     "name": "stderr",
     "output_type": "stream",
     "text": [
      "100%|██████████| 1000/1000 [00:00<00:00, 151075.32it/s]\n"
     ]
    },
    {
     "data": {
      "text/plain": [
       "0.88"
      ]
     },
     "execution_count": 235,
     "metadata": {},
     "output_type": "execute_result"
    }
   ],
   "source": [
    "gsm8k_50_llama3_8b = CalibrationRun(\n",
    "    dataset=gsm8k_all,\n",
    "    model_name=\"meta-llama/Meta-Llama-3-8B-Instruct\",\n",
    "    num_questions=50,\n",
    "    num_attempts_per_question=20,\n",
    "    num_shots=5,\n",
    "    max_response_tokens=1000,\n",
    "    requests_file_path=\"requests/gsm8k_50_llama3_8b.jsonl\",\n",
    "    results_file_pattern=\"results/gsm8k_50_llama3_8b.jsonl*\",\n",
    ")\n",
    "gsm8k_50_llama3_8b.write_requests_file()\n",
    "gsm8k_50_llama3_8b.read_results_file()\n",
    "gsm8k_50_llama3_8b.top1_acc()"
   ]
  },
  {
   "cell_type": "code",
   "execution_count": 216,
   "id": "70fe38ee",
   "metadata": {},
   "outputs": [
    {
     "data": {
      "text/html": [
       "<div>\n",
       "<style scoped>\n",
       "    .dataframe tbody tr th:only-of-type {\n",
       "        vertical-align: middle;\n",
       "    }\n",
       "\n",
       "    .dataframe tbody tr th {\n",
       "        vertical-align: top;\n",
       "    }\n",
       "\n",
       "    .dataframe thead th {\n",
       "        text-align: right;\n",
       "    }\n",
       "</style>\n",
       "<table border=\"1\" class=\"dataframe\">\n",
       "  <thead>\n",
       "    <tr style=\"text-align: right;\">\n",
       "      <th></th>\n",
       "      <th>all_tokens_logprob</th>\n",
       "      <th>correct</th>\n",
       "    </tr>\n",
       "    <tr>\n",
       "      <th>bin</th>\n",
       "      <th></th>\n",
       "      <th></th>\n",
       "    </tr>\n",
       "  </thead>\n",
       "  <tbody>\n",
       "    <tr>\n",
       "      <th>0</th>\n",
       "      <td>-62.635323</td>\n",
       "      <td>0.34</td>\n",
       "    </tr>\n",
       "    <tr>\n",
       "      <th>1</th>\n",
       "      <td>-46.345504</td>\n",
       "      <td>0.48</td>\n",
       "    </tr>\n",
       "    <tr>\n",
       "      <th>2</th>\n",
       "      <td>-39.694988</td>\n",
       "      <td>0.60</td>\n",
       "    </tr>\n",
       "    <tr>\n",
       "      <th>3</th>\n",
       "      <td>-35.652041</td>\n",
       "      <td>0.48</td>\n",
       "    </tr>\n",
       "    <tr>\n",
       "      <th>4</th>\n",
       "      <td>-32.447806</td>\n",
       "      <td>0.62</td>\n",
       "    </tr>\n",
       "    <tr>\n",
       "      <th>5</th>\n",
       "      <td>-29.782472</td>\n",
       "      <td>0.68</td>\n",
       "    </tr>\n",
       "    <tr>\n",
       "      <th>6</th>\n",
       "      <td>-27.189474</td>\n",
       "      <td>0.68</td>\n",
       "    </tr>\n",
       "    <tr>\n",
       "      <th>7</th>\n",
       "      <td>-25.286062</td>\n",
       "      <td>0.72</td>\n",
       "    </tr>\n",
       "    <tr>\n",
       "      <th>8</th>\n",
       "      <td>-23.675939</td>\n",
       "      <td>0.76</td>\n",
       "    </tr>\n",
       "    <tr>\n",
       "      <th>9</th>\n",
       "      <td>-22.224776</td>\n",
       "      <td>0.62</td>\n",
       "    </tr>\n",
       "    <tr>\n",
       "      <th>10</th>\n",
       "      <td>-20.787327</td>\n",
       "      <td>0.88</td>\n",
       "    </tr>\n",
       "    <tr>\n",
       "      <th>11</th>\n",
       "      <td>-19.312292</td>\n",
       "      <td>0.78</td>\n",
       "    </tr>\n",
       "    <tr>\n",
       "      <th>12</th>\n",
       "      <td>-17.489612</td>\n",
       "      <td>0.74</td>\n",
       "    </tr>\n",
       "    <tr>\n",
       "      <th>13</th>\n",
       "      <td>-15.975758</td>\n",
       "      <td>0.80</td>\n",
       "    </tr>\n",
       "    <tr>\n",
       "      <th>14</th>\n",
       "      <td>-14.556557</td>\n",
       "      <td>0.86</td>\n",
       "    </tr>\n",
       "    <tr>\n",
       "      <th>15</th>\n",
       "      <td>-13.267599</td>\n",
       "      <td>0.88</td>\n",
       "    </tr>\n",
       "    <tr>\n",
       "      <th>16</th>\n",
       "      <td>-11.826177</td>\n",
       "      <td>0.86</td>\n",
       "    </tr>\n",
       "    <tr>\n",
       "      <th>17</th>\n",
       "      <td>-10.043622</td>\n",
       "      <td>0.98</td>\n",
       "    </tr>\n",
       "    <tr>\n",
       "      <th>18</th>\n",
       "      <td>-7.725073</td>\n",
       "      <td>1.00</td>\n",
       "    </tr>\n",
       "    <tr>\n",
       "      <th>19</th>\n",
       "      <td>-4.375307</td>\n",
       "      <td>0.96</td>\n",
       "    </tr>\n",
       "  </tbody>\n",
       "</table>\n",
       "</div>"
      ],
      "text/plain": [
       "     all_tokens_logprob  correct\n",
       "bin                             \n",
       "0            -62.635323     0.34\n",
       "1            -46.345504     0.48\n",
       "2            -39.694988     0.60\n",
       "3            -35.652041     0.48\n",
       "4            -32.447806     0.62\n",
       "5            -29.782472     0.68\n",
       "6            -27.189474     0.68\n",
       "7            -25.286062     0.72\n",
       "8            -23.675939     0.76\n",
       "9            -22.224776     0.62\n",
       "10           -20.787327     0.88\n",
       "11           -19.312292     0.78\n",
       "12           -17.489612     0.74\n",
       "13           -15.975758     0.80\n",
       "14           -14.556557     0.86\n",
       "15           -13.267599     0.88\n",
       "16           -11.826177     0.86\n",
       "17           -10.043622     0.98\n",
       "18            -7.725073     1.00\n",
       "19            -4.375307     0.96"
      ]
     },
     "metadata": {},
     "output_type": "display_data"
    }
   ],
   "source": [
    "test = gsm8k_50_llama3_8b.get_binned(\"all_tokens_logprob\", qa_pairs_per_bin=50)\n",
    "display(test)\n",
    "pw_fit = piecewise_regression.Fit(np.array(test.all_tokens_logprob), np.array(test.correct), n_breakpoints=3)\n",
    "# gsm8k_50_llama3_8b.get_confs(\"tokens_prob\")\n",
    "# gsm8k_50_llama3_8b.plot_estimated_confidence_vs_accuracy(\"tokens_prob\")"
   ]
  },
  {
   "cell_type": "code",
   "execution_count": 218,
   "id": "a306d460",
   "metadata": {},
   "outputs": [
    {
     "data": {
      "image/png": "[encoded data removed]",
      "text/plain": [
       "<Figure size 640x480 with 1 Axes>"
      ]
     },
     "metadata": {},
     "output_type": "display_data"
    }
   ],
   "source": [
    "# pw_fit.summary()\n",
    "pw_fit.plot_data(color=\"grey\", s=20)\n",
    "# Pass in standard matplotlib keywords to control any of the plots\n",
    "pw_fit.plot_fit(color=\"red\", linewidth=4)\n",
    "pw_fit.plot_breakpoints()\n",
    "pw_fit.plot_breakpoint_confidence_intervals()\n",
    "plt.xlabel(\"x\")\n",
    "plt.ylabel(\"y\")\n",
    "plt.show()\n",
    "plt.close()"
   ]
  },
  {
   "cell_type": "code",
   "execution_count": 223,
   "id": "f7e16a49",
   "metadata": {},
   "outputs": [
    {
     "ename": "TypeError",
     "evalue": "__init__() got an unexpected keyword argument 'results_file_path'",
     "output_type": "error",
     "traceback": [
      "\u001b[0;31m---------------------------------------------------------------------------\u001b[0m",
      "\u001b[0;31mTypeError\u001b[0m                                 Traceback (most recent call last)",
      "Cell \u001b[0;32mIn[223], line 1\u001b[0m\n\u001b[0;32m----> 1\u001b[0m gsm8k_all_llama3_70b \u001b[38;5;241m=\u001b[39m \u001b[43mCalibrationRun\u001b[49m\u001b[43m(\u001b[49m\n\u001b[1;32m      2\u001b[0m \u001b[43m    \u001b[49m\u001b[43mdataset\u001b[49m\u001b[38;5;241;43m=\u001b[39;49m\u001b[43mgsm8k_all\u001b[49m\u001b[43m,\u001b[49m\n\u001b[1;32m      3\u001b[0m \u001b[43m    \u001b[49m\u001b[43mmodel_name\u001b[49m\u001b[38;5;241;43m=\u001b[39;49m\u001b[38;5;124;43m\"\u001b[39;49m\u001b[38;5;124;43mmeta-llama/Meta-Llama-3-70B-Instruct\u001b[39;49m\u001b[38;5;124;43m\"\u001b[39;49m\u001b[43m,\u001b[49m\n\u001b[1;32m      4\u001b[0m \u001b[43m    \u001b[49m\u001b[43mnum_questions\u001b[49m\u001b[38;5;241;43m=\u001b[39;49m\u001b[38;5;241;43m1319\u001b[39;49m\u001b[43m,\u001b[49m\n\u001b[1;32m      5\u001b[0m \u001b[43m    \u001b[49m\u001b[43mnum_attempts_per_question\u001b[49m\u001b[38;5;241;43m=\u001b[39;49m\u001b[38;5;241;43m20\u001b[39;49m\u001b[43m,\u001b[49m\n\u001b[1;32m      6\u001b[0m \u001b[43m    \u001b[49m\u001b[43mnum_shots\u001b[49m\u001b[38;5;241;43m=\u001b[39;49m\u001b[38;5;241;43m5\u001b[39;49m\u001b[43m,\u001b[49m\n\u001b[1;32m      7\u001b[0m \u001b[43m    \u001b[49m\u001b[43mmax_response_tokens\u001b[49m\u001b[38;5;241;43m=\u001b[39;49m\u001b[38;5;241;43m1000\u001b[39;49m\u001b[43m,\u001b[49m\n\u001b[1;32m      8\u001b[0m \u001b[43m    \u001b[49m\u001b[43mrequests_file_path\u001b[49m\u001b[38;5;241;43m=\u001b[39;49m\u001b[38;5;124;43m\"\u001b[39;49m\u001b[38;5;124;43mrequests/gsm8k_all_llama3_70b.jsonl\u001b[39;49m\u001b[38;5;124;43m\"\u001b[39;49m\u001b[43m,\u001b[49m\n\u001b[1;32m      9\u001b[0m \u001b[43m    \u001b[49m\u001b[43mresults_file_path\u001b[49m\u001b[38;5;241;43m=\u001b[39;49m\u001b[38;5;124;43m\"\u001b[39;49m\u001b[38;5;124;43mresults/gsm8k_all_llama3_70b.jsonl\u001b[39;49m\u001b[38;5;124;43m\"\u001b[39;49m\u001b[43m,\u001b[49m\n\u001b[1;32m     10\u001b[0m \u001b[43m)\u001b[49m\n\u001b[1;32m     11\u001b[0m gsm8k_all_llama3_70b\u001b[38;5;241m.\u001b[39mwrite_requests_file()\n",
      "\u001b[0;31mTypeError\u001b[0m: __init__() got an unexpected keyword argument 'results_file_path'"
     ]
    }
   ],
   "source": [
    "gsm8k_all_llama3_70b = CalibrationRun(\n",
    "    dataset=gsm8k_all,\n",
    "    model_name=\"meta-llama/Meta-Llama-3-70B-Instruct\",\n",
    "    num_questions=1319,\n",
    "    num_attempts_per_question=20,\n",
    "    num_shots=5,\n",
    "    max_response_tokens=1000,\n",
    "    requests_file_path=\"requests/gsm8k_all_llama3_70b.jsonl\",\n",
    "    results_file_path=\"results/gsm8k_all_llama3_70b.jsonl\",\n",
    ")\n",
    "gsm8k_all_llama3_70b.write_requests_file()\n",
    "# gsm8k_all_llama3_70b.read_results_file()"
   ]
  },
  {
   "cell_type": "markdown",
   "id": "7f9fca00",
   "metadata": {},
   "source": [
    "## MATH (1000 Qs)"
   ]
  },
  {
   "cell_type": "code",
   "execution_count": 11,
   "id": "3e7746b8",
   "metadata": {},
   "outputs": [],
   "source": [
    "def extract_boxed_expression(input_string):\n",
    "    start_idx = input_string.find(r\"\\boxed{\")\n",
    "    if start_idx == -1:\n",
    "        return None\n",
    "\n",
    "    start_idx += len(r\"\\boxed{\")\n",
    "    brace_count = 1\n",
    "    result = []\n",
    "\n",
    "    for idx in range(start_idx, len(input_string)):\n",
    "        char = input_string[idx]\n",
    "        result.append(char)\n",
    "        \n",
    "        if char == '{':\n",
    "            brace_count += 1\n",
    "        elif char == '}':\n",
    "            brace_count -= 1\n",
    "            if brace_count == 0:\n",
    "                # We've found the closing brace for \\boxed{\n",
    "                return ''.join(result[:-1])  # Exclude the last closing brace\n",
    "    \n",
    "    return None\n",
    "\n",
    "def get_math_df(data_path, split):\n",
    "    jsons = []\n",
    "    for root, dirs, files in os.walk(os.path.join(data_path, split)):\n",
    "        for name in files:\n",
    "            if name.endswith((\".json\")):\n",
    "                full_path = os.path.join(root, name)\n",
    "                with open(full_path, \"r\") as f:\n",
    "                    jsons.append(json.load(f))\n",
    "    \n",
    "    df = pd.DataFrame.from_dict(jsons).rename(columns={'problem': 'question', 'solution': 'answer'})\n",
    "    df['q_id'] = df.index\n",
    "\n",
    "    return df\n",
    "\n",
    "def math_is_equiv(s1, s2):\n",
    "    return boxed_answer_is_equiv(extract_boxed_expression(s1), extract_boxed_expression(s2))\n",
    "\n",
    "def math_get_prompt_content(question, examples_text):\n",
    "    return (\n",
    "        \"Please answer the following question.\\n\\n\"\n",
    "        + f\"Question: {question}\\n\\n\"\n",
    "        + \"Please give your reasoning, then output your final answer inside \\\\boxed{}.\\n\\n\"\n",
    "        + f\"Examples:\\n\\n{examples_text}\"\n",
    "    )"
   ]
  },
  {
   "cell_type": "code",
   "execution_count": 12,
   "id": "88da8d66",
   "metadata": {},
   "outputs": [],
   "source": [
    "math_all = CalibrationDataset(\n",
    "    dataset_name=\"math_all\",\n",
    "    df = get_math_df(\"MATH/\", \"test\"),\n",
    "    is_equiv=math_is_equiv,\n",
    "    get_value_from_response=extract_boxed_expression,\n",
    "    get_prompt_content=math_get_prompt_content,\n",
    "    get_value_tokens_prob=None,\n",
    "    seed=SEED,\n",
    ")"
   ]
  },
  {
   "cell_type": "markdown",
   "id": "89f104a4",
   "metadata": {},
   "source": [
    "### 1000Q 8B"
   ]
  },
  {
   "cell_type": "code",
   "execution_count": 17,
   "id": "3aaf218d",
   "metadata": {},
   "outputs": [],
   "source": [
    "math_1000q_llama3_8b = CalibrationRun(\n",
    "    dataset=math_all,\n",
    "    model_name=\"meta-llama/Meta-Llama-3-8B-Instruct\",\n",
    "    num_questions=1000,\n",
    "    num_attempts_per_question=20,\n",
    "    num_shots=5,\n",
    "    max_response_tokens=5000,\n",
    "    requests_file_path=\"requests/math_1000q_llama3_8b.jsonl\",\n",
    "    results_file_pattern=\"results/math_1000q_llama3_8b.jsonl*\",\n",
    ")\n",
    "math_1000q_llama3_8b.write_requests_file()"
   ]
  },
  {
   "cell_type": "markdown",
   "id": "43bd463b",
   "metadata": {},
   "source": [
    "### 1000Q 70B"
   ]
  },
  {
   "cell_type": "code",
   "execution_count": 13,
   "id": "635ad703",
   "metadata": {},
   "outputs": [],
   "source": [
    "math_1000q_llama3_70b = CalibrationRun(\n",
    "    dataset=math_all,\n",
    "    model_name=\"meta-llama/Meta-Llama-3-70B-Instruct\",\n",
    "    num_questions=1000,\n",
    "    num_attempts_per_question=20,\n",
    "    num_shots=5,\n",
    "    max_response_tokens=5000,\n",
    "    requests_file_path=\"requests/math_1000q_llama3_70b.jsonl\",\n",
    "    results_file_pattern=\"results/math_1000q_llama3_70b.jsonl*\",\n",
    ")\n",
    "math_1000q_llama3_70b.write_requests_file()"
   ]
  }
 ],
 "metadata": {
  "kernelspec": {
   "display_name": "Python 3 (ipykernel)",
   "language": "python",
   "name": "python3"
  },
  "language_info": {
   "codemirror_mode": {
    "name": "ipython",
    "version": 3
   },
   "file_extension": ".py",
   "mimetype": "text/x-python",
   "name": "python",
   "nbconvert_exporter": "python",
   "pygments_lexer": "ipython3",
   "version": "3.8.19"
  }
 },
 "nbformat": 4,
 "nbformat_minor": 5
}
