{
 "cells": [
  {
   "cell_type": "markdown",
   "id": "c6f7312a-c53a-4fb1-bfd6-1a6ba4915941",
   "metadata": {},
   "source": [
    "## Prelude"
   ]
  },
  {
   "cell_type": "code",
   "execution_count": 40,
   "id": "c2cddcdc-a39d-4bbe-87ff-ee0dc9eb6f33",
   "metadata": {},
   "outputs": [
    {
     "name": "stdout",
     "output_type": "stream",
     "text": [
      "Requirement already satisfied: datasets in /opt/anaconda3/envs/pytorch_env/lib/python3.8/site-packages (2.19.1)\n",
      "Requirement already satisfied: filelock in /opt/anaconda3/envs/pytorch_env/lib/python3.8/site-packages (from datasets) (3.13.1)\n",
      "Requirement already satisfied: numpy>=1.17 in /opt/anaconda3/envs/pytorch_env/lib/python3.8/site-packages (from datasets) (1.24.3)\n",
      "Requirement already satisfied: pyarrow>=12.0.0 in /opt/anaconda3/envs/pytorch_env/lib/python3.8/site-packages (from datasets) (16.1.0)\n",
      "Requirement already satisfied: pyarrow-hotfix in /opt/anaconda3/envs/pytorch_env/lib/python3.8/site-packages (from datasets) (0.6)\n",
      "Requirement already satisfied: dill<0.3.9,>=0.3.0 in /opt/anaconda3/envs/pytorch_env/lib/python3.8/site-packages (from datasets) (0.3.8)\n",
      "Requirement already satisfied: pandas in /opt/anaconda3/envs/pytorch_env/lib/python3.8/site-packages (from datasets) (2.0.3)\n",
      "Requirement already satisfied: requests>=2.19.0 in /opt/anaconda3/envs/pytorch_env/lib/python3.8/site-packages (from datasets) (2.31.0)\n",
      "Requirement already satisfied: tqdm>=4.62.1 in /opt/anaconda3/envs/pytorch_env/lib/python3.8/site-packages (from datasets) (4.66.4)\n",
      "Requirement already satisfied: xxhash in /opt/anaconda3/envs/pytorch_env/lib/python3.8/site-packages (from datasets) (3.4.1)\n",
      "Requirement already satisfied: multiprocess in /opt/anaconda3/envs/pytorch_env/lib/python3.8/site-packages (from datasets) (0.70.16)\n",
      "Requirement already satisfied: fsspec<=2024.3.1,>=2023.1.0 in /opt/anaconda3/envs/pytorch_env/lib/python3.8/site-packages (from fsspec[http]<=2024.3.1,>=2023.1.0->datasets) (2023.10.0)\n",
      "Requirement already satisfied: aiohttp in /opt/anaconda3/envs/pytorch_env/lib/python3.8/site-packages (from datasets) (3.9.5)\n",
      "Requirement already satisfied: huggingface-hub>=0.21.2 in /opt/anaconda3/envs/pytorch_env/lib/python3.8/site-packages (from datasets) (0.23.0)\n",
      "Requirement already satisfied: packaging in /opt/anaconda3/envs/pytorch_env/lib/python3.8/site-packages (from datasets) (23.2)\n",
      "Requirement already satisfied: pyyaml>=5.1 in /opt/anaconda3/envs/pytorch_env/lib/python3.8/site-packages (from datasets) (6.0.1)\n",
      "Requirement already satisfied: aiosignal>=1.1.2 in /opt/anaconda3/envs/pytorch_env/lib/python3.8/site-packages (from aiohttp->datasets) (1.3.1)\n",
      "Requirement already satisfied: attrs>=17.3.0 in /opt/anaconda3/envs/pytorch_env/lib/python3.8/site-packages (from aiohttp->datasets) (23.1.0)\n",
      "Requirement already satisfied: frozenlist>=1.1.1 in /opt/anaconda3/envs/pytorch_env/lib/python3.8/site-packages (from aiohttp->datasets) (1.4.1)\n",
      "Requirement already satisfied: multidict<7.0,>=4.5 in /opt/anaconda3/envs/pytorch_env/lib/python3.8/site-packages (from aiohttp->datasets) (6.0.5)\n",
      "Requirement already satisfied: yarl<2.0,>=1.0 in /opt/anaconda3/envs/pytorch_env/lib/python3.8/site-packages (from aiohttp->datasets) (1.9.4)\n",
      "Requirement already satisfied: async-timeout<5.0,>=4.0 in /opt/anaconda3/envs/pytorch_env/lib/python3.8/site-packages (from aiohttp->datasets) (4.0.3)\n",
      "Requirement already satisfied: typing-extensions>=3.7.4.3 in /opt/anaconda3/envs/pytorch_env/lib/python3.8/site-packages (from huggingface-hub>=0.21.2->datasets) (4.9.0)\n",
      "Requirement already satisfied: charset-normalizer<4,>=2 in /opt/anaconda3/envs/pytorch_env/lib/python3.8/site-packages (from requests>=2.19.0->datasets) (2.0.4)\n",
      "Requirement already satisfied: idna<4,>=2.5 in /opt/anaconda3/envs/pytorch_env/lib/python3.8/site-packages (from requests>=2.19.0->datasets) (3.4)\n",
      "Requirement already satisfied: urllib3<3,>=1.21.1 in /opt/anaconda3/envs/pytorch_env/lib/python3.8/site-packages (from requests>=2.19.0->datasets) (2.1.0)\n",
      "Requirement already satisfied: certifi>=2017.4.17 in /opt/anaconda3/envs/pytorch_env/lib/python3.8/site-packages (from requests>=2.19.0->datasets) (2024.2.2)\n",
      "Requirement already satisfied: python-dateutil>=2.8.2 in /opt/anaconda3/envs/pytorch_env/lib/python3.8/site-packages (from pandas->datasets) (2.8.2)\n",
      "Requirement already satisfied: pytz>=2020.1 in /opt/anaconda3/envs/pytorch_env/lib/python3.8/site-packages (from pandas->datasets) (2023.3.post1)\n",
      "Requirement already satisfied: tzdata>=2022.1 in /opt/anaconda3/envs/pytorch_env/lib/python3.8/site-packages (from pandas->datasets) (2024.1)\n",
      "Requirement already satisfied: six>=1.5 in /opt/anaconda3/envs/pytorch_env/lib/python3.8/site-packages (from python-dateutil>=2.8.2->pandas->datasets) (1.16.0)\n",
      "Note: you may need to restart the kernel to use updated packages.\n",
      "Requirement already satisfied: matplotlib in /opt/anaconda3/envs/pytorch_env/lib/python3.8/site-packages (3.7.5)\n",
      "Requirement already satisfied: contourpy>=1.0.1 in /opt/anaconda3/envs/pytorch_env/lib/python3.8/site-packages (from matplotlib) (1.1.1)\n",
      "Requirement already satisfied: cycler>=0.10 in /opt/anaconda3/envs/pytorch_env/lib/python3.8/site-packages (from matplotlib) (0.12.1)\n",
      "Requirement already satisfied: fonttools>=4.22.0 in /opt/anaconda3/envs/pytorch_env/lib/python3.8/site-packages (from matplotlib) (4.51.0)\n",
      "Requirement already satisfied: kiwisolver>=1.0.1 in /opt/anaconda3/envs/pytorch_env/lib/python3.8/site-packages (from matplotlib) (1.4.5)\n",
      "Requirement already satisfied: numpy<2,>=1.20 in /opt/anaconda3/envs/pytorch_env/lib/python3.8/site-packages (from matplotlib) (1.24.3)\n",
      "Requirement already satisfied: packaging>=20.0 in /opt/anaconda3/envs/pytorch_env/lib/python3.8/site-packages (from matplotlib) (23.2)\n",
      "Requirement already satisfied: pillow>=6.2.0 in /opt/anaconda3/envs/pytorch_env/lib/python3.8/site-packages (from matplotlib) (10.2.0)\n",
      "Requirement already satisfied: pyparsing>=2.3.1 in /opt/anaconda3/envs/pytorch_env/lib/python3.8/site-packages (from matplotlib) (3.1.2)\n",
      "Requirement already satisfied: python-dateutil>=2.7 in /opt/anaconda3/envs/pytorch_env/lib/python3.8/site-packages (from matplotlib) (2.8.2)\n",
      "Requirement already satisfied: importlib-resources>=3.2.0 in /opt/anaconda3/envs/pytorch_env/lib/python3.8/site-packages (from matplotlib) (6.1.1)\n",
      "Requirement already satisfied: zipp>=3.1.0 in /opt/anaconda3/envs/pytorch_env/lib/python3.8/site-packages (from importlib-resources>=3.2.0->matplotlib) (3.17.0)\n",
      "Requirement already satisfied: six>=1.5 in /opt/anaconda3/envs/pytorch_env/lib/python3.8/site-packages (from python-dateutil>=2.7->matplotlib) (1.16.0)\n",
      "Note: you may need to restart the kernel to use updated packages.\n"
     ]
    }
   ],
   "source": [
    "%pip install datasets\n",
    "%pip install matplotlib"
   ]
  },
  {
   "cell_type": "code",
   "execution_count": 41,
   "id": "96fc8848-7a28-4754-aca6-106d83640cb6",
   "metadata": {},
   "outputs": [],
   "source": [
    "import numpy as np\n",
    "import pandas as pd\n",
    "from tqdm import tqdm\n",
    "tqdm.pandas()\n",
    "import matplotlib.pyplot as plt\n",
    "import os\n",
    "import json\n",
    "\n",
    "import multiprocess as mp\n",
    "\n",
    "from datasets import load_dataset"
   ]
  },
  {
   "cell_type": "code",
   "execution_count": 42,
   "id": "5804075e",
   "metadata": {},
   "outputs": [],
   "source": [
    "SEED = 42"
   ]
  },
  {
   "cell_type": "markdown",
   "id": "9ff2f76c",
   "metadata": {},
   "source": [
    "### MATH-specific"
   ]
  },
  {
   "cell_type": "code",
   "execution_count": 109,
   "id": "abda6923",
   "metadata": {},
   "outputs": [
    {
     "name": "stdout",
     "output_type": "stream",
     "text": [
      "Collecting git+https://github.com/hendrycks/math.git\n",
      "  Cloning https://github.com/hendrycks/math.git to /private/var/folders/cd/tvz6m38s0sj69mjqw_mcf4sc0000gn/T/pip-req-build-18kf86cc\n",
      "  Running command git clone --filter=blob:none --quiet https://github.com/hendrycks/math.git /private/var/folders/cd/tvz6m38s0sj69mjqw_mcf4sc0000gn/T/pip-req-build-18kf86cc\n",
      "  Resolved https://github.com/hendrycks/math.git to commit 357963a7f5501a6c1708cf3f3fb0cdf525642761\n",
      "  Preparing metadata (setup.py) ... \u001b[?25ldone\n",
      "\u001b[?25hBuilding wheels for collected packages: math-equivalence\n",
      "  Building wheel for math-equivalence (setup.py) ... \u001b[?25ldone\n",
      "\u001b[?25h  Created wheel for math-equivalence: filename=math_equivalence-0.0.0-py3-none-any.whl size=3501 sha256=5f2e08b090a5d3d0743622c07bc46ab7b8998cc4226db2b9a551b2261f44e672\n",
      "  Stored in directory: /private/var/folders/cd/tvz6m38s0sj69mjqw_mcf4sc0000gn/T/pip-ephem-wheel-cache-njowj0gr/wheels/43/d9/50/9700798ae70dfdc7d254315ccd67f38fccd816e775f1728a52\n",
      "Successfully built math-equivalence\n",
      "Installing collected packages: math-equivalence\n",
      "Successfully installed math-equivalence-0.0.0\n",
      "Note: you may need to restart the kernel to use updated packages.\n"
     ]
    }
   ],
   "source": [
    "%pip install git+https://github.com/hendrycks/math.git"
   ]
  },
  {
   "cell_type": "code",
   "execution_count": 128,
   "id": "eeb3870a",
   "metadata": {},
   "outputs": [],
   "source": [
    "from math_equivalence import is_equiv as boxed_answer_is_equiv"
   ]
  },
  {
   "cell_type": "markdown",
   "id": "38f0f2ce-b9c5-408b-a2a0-6d898c38b5f5",
   "metadata": {},
   "source": [
    "## CalibrationDataset and CalibrationRun class defs"
   ]
  },
  {
   "cell_type": "code",
   "execution_count": 43,
   "id": "a8a9943a-59c7-4520-8356-7591eabc464a",
   "metadata": {},
   "outputs": [],
   "source": [
    "class CalibrationDataset:\n",
    "    def __init__(\n",
    "        self,\n",
    "        dataset_name,\n",
    "        df,\n",
    "        is_equiv,\n",
    "        get_prompt_content,\n",
    "        seed,\n",
    "    ):\n",
    "        self.dataset_name = dataset_name\n",
    "        self.df = df\n",
    "        self.is_equiv = is_equiv\n",
    "        self.get_prompt_content = get_prompt_content\n",
    "        self.seed = seed\n",
    "\n",
    "        self.df['q_id'] = self.df.index\n",
    "\n",
    "    def get_examples_text(self, num_shots):\n",
    "        return \"\\n\\n\".join(\n",
    "            self.df.sample(num_shots, random_state=self.seed)\n",
    "            .apply(lambda row: f\"Question: {row['question']}\\n\\nAnswer: {row['answer']}\", axis=1)\n",
    "        )"
   ]
  },
  {
   "cell_type": "code",
   "execution_count": 137,
   "id": "97282adf",
   "metadata": {},
   "outputs": [],
   "source": [
    "class CalibrationRun:\n",
    "    def __init__(\n",
    "        self,\n",
    "        dataset,\n",
    "        model_name,\n",
    "        num_questions,\n",
    "        num_attempts_per_question,\n",
    "        num_shots,\n",
    "        max_response_tokens,\n",
    "        requests_file_path,\n",
    "        results_file_path,\n",
    "    ):\n",
    "        self.dataset = dataset\n",
    "        self.model_name = model_name\n",
    "        self.num_questions = num_questions\n",
    "        self.num_attempts_per_question = num_attempts_per_question\n",
    "        self.num_shots = num_shots\n",
    "        self.max_response_tokens = max_response_tokens\n",
    "        self.requests_file_path = requests_file_path\n",
    "        self.results_file_path = results_file_path\n",
    "        self.results = None\n",
    "\n",
    "    def write_requests_file(self):\n",
    "        df = self.dataset.df.sample(self.num_questions, random_state=self.dataset.seed).copy()\n",
    "\n",
    "        att = pd.concat([df]*self.num_attempts_per_question, ignore_index=True)\n",
    "        with open(self.requests_file_path, \"w\") as f:\n",
    "            for index, row in att.iterrows():\n",
    "                dict_for_one_request = {\n",
    "                    \"custom_id\": f\"request_{index}_qid_{row.q_id}\",\n",
    "                    \"method\": \"POST\",\n",
    "                    \"url\": \"/v1/chat/completions\",\n",
    "                    \"body\": {\n",
    "                        \"model\": self.model_name,\n",
    "                        \"messages\": [\n",
    "                            {\"role\": \"system\", \"content\": \"You are a helpful assistant.\"},\n",
    "                            {\n",
    "                                \"role\": \"user\",\n",
    "                                \"content\": self.dataset.get_prompt_content(\n",
    "                                    question=row.question,\n",
    "                                    examples_text=self.dataset.get_examples_text(self.num_shots),\n",
    "                                )\n",
    "                            }\n",
    "                        ],\n",
    "                        \"max_tokens\": self.max_response_tokens,\n",
    "                        \"logprobs\": True,\n",
    "                        \"top_logprobs\": 1,\n",
    "                    }\n",
    "                }\n",
    "                print(json.dumps(dict_for_one_request), file=f)\n",
    "\n",
    "    def read_results_file(self):\n",
    "        def parse_json_string(line):\n",
    "            try:\n",
    "                return json.loads(line)\n",
    "            except ValueError:\n",
    "                return None\n",
    "        \n",
    "        with open(self.results_file_path, \"r\") as f:\n",
    "            lines = [parse_json_string(line.rstrip()) for line in f]\n",
    "        \n",
    "        line_count = len(lines)\n",
    "        lines = [line for line in lines if line is not None]\n",
    "        lines_dropped = line_count - len(lines)\n",
    "        print(f\"Lines dropped: {lines_dropped}\")\n",
    "        df = pd.DataFrame.from_dict(lines)\n",
    "        df[\"q_id\"] = df[\"custom_id\"].str.split(\"_\").str[3].astype(int)\n",
    "        df[\"attempt\"] = df[\"response\"].apply(\n",
    "            lambda r: r['choices'][0]['message']['content']\n",
    "        )\n",
    "\n",
    "        df = df[['q_id', 'attempt']].merge(self.dataset.df[['q_id', 'question', 'answer']], how='left', on='q_id')\n",
    "        df['correct'] = df.progress_apply(lambda row: self.dataset.is_equiv(row['attempt'], row['answer']), axis=1)\n",
    "\n",
    "        self.results = df\n",
    "\n",
    "    def get_confs(self):\n",
    "        assert self.results is not None, \"results not yet parsed\"\n",
    "        confs = (\n",
    "            self.results[['q_id', 'correct']]\n",
    "            .assign(sampled_confidence=1/self.num_attempts_per_question)\n",
    "            .groupby(['q_id', 'correct'])\n",
    "            .sum()\n",
    "            .reset_index()\n",
    "        )\n",
    "\n",
    "        # TODO: add token prob confidences\n",
    "        # TODO: add P(True) confidences\n",
    "        return confs\n",
    "    \n",
    "    def top1_acc(self):\n",
    "        return self.get_confs().query(\"correct\").sampled_confidence.mean()\n",
    "    \n",
    "    def plot_estimated_confidence_vs_accuracy(self, confidence_estimator=\"sampled_confidence\", qa_pairs_per_bin=25):\n",
    "        binned = (\n",
    "            self.get_confs()\n",
    "            .sort_values(confidence_estimator)\n",
    "            .reset_index(drop=True)\n",
    "            .assign(bin=lambda row: row.index // qa_pairs_per_bin)[['bin', confidence_estimator, 'correct']]\n",
    "            .groupby('bin')\n",
    "            .mean()\n",
    "        )\n",
    "\n",
    "        fig, ax = plt.subplots()\n",
    "        plt.xlim(0, 1)\n",
    "        plt.ylim(0, 1)\n",
    "        plt.scatter(binned['sampled_confidence'], binned['correct'])\n",
    "        ax.plot([0,1],[0,1], transform=ax.transAxes)\n",
    "\n",
    "        plt.title(f\"{self.model_name} calibration\\n({self.dataset.dataset_name} {self.num_shots}-shot, {self.num_questions} Qs, {self.num_attempts_per_question} attempts/Q)\")\n",
    "        plt.xlabel(confidence_estimator)\n",
    "        plt.ylabel('accuracy')\n",
    "\n",
    "        plt.show()"
   ]
  },
  {
   "cell_type": "code",
   "execution_count": null,
   "id": "a4a3432a",
   "metadata": {},
   "outputs": [],
   "source": [
    "def cost_acc_curve_points(confidence_estimator, run1, run2, cost1, cost2):\n",
    "    pass"
   ]
  },
  {
   "cell_type": "markdown",
   "id": "297cb7d0",
   "metadata": {},
   "source": [
    "## GSM8K all"
   ]
  },
  {
   "cell_type": "code",
   "execution_count": 138,
   "id": "67509811",
   "metadata": {},
   "outputs": [],
   "source": [
    "def gsm8k_str_to_num_parser(s : str) -> float:\n",
    "    if isinstance(s, float) or isinstance(s, int):\n",
    "        return s\n",
    "    try:\n",
    "        ending = s.split(\"####\")[-1]\n",
    "        strip_non_numbers = \"\".join((c for c in ending if (c in \"1234567890.-\")))\n",
    "        return float(strip_non_numbers)\n",
    "    except Exception as e:\n",
    "        return float(\"nan\")\n",
    "    \n",
    "def gsm8k_is_equiv(s1, s2):\n",
    "    return gsm8k_str_to_num_parser(s1) == gsm8k_str_to_num_parser(s2)\n",
    "    \n",
    "def gsm8k_get_prompt_content(question, examples_text):\n",
    "    return (\n",
    "        \"Please answer the following question.\\n\\n\"\n",
    "        + f\"Question: {question}\\n\\n\"\n",
    "        + \"Please give your reasoning, then output your final answer as a single number immediately preceded by #### with nothing after.\\n\\n\"\n",
    "        + f\"Examples:\\n\\n{examples_text}\"\n",
    "    )"
   ]
  },
  {
   "cell_type": "code",
   "execution_count": 139,
   "id": "87a178d4",
   "metadata": {},
   "outputs": [],
   "source": [
    "gsm8k_all = CalibrationDataset(\n",
    "    dataset_name=\"gsm8k_all\",\n",
    "    df = pd.DataFrame(load_dataset(\"gsm8k\", \"main\")[\"test\"]),\n",
    "    is_equiv = gsm8k_is_equiv,\n",
    "    get_prompt_content=gsm8k_get_prompt_content,\n",
    "    seed=SEED,\n",
    ")"
   ]
  },
  {
   "cell_type": "code",
   "execution_count": 140,
   "id": "dbb8da9d",
   "metadata": {},
   "outputs": [],
   "source": [
    "gsm8k_all_llama3_8b = CalibrationRun(\n",
    "    dataset=gsm8k_all,\n",
    "    model_name=\"meta-llama/Meta-Llama-3-8B-Instruct\",\n",
    "    num_questions=1319,\n",
    "    num_attempts_per_question=20,\n",
    "    num_shots=5,\n",
    "    max_response_tokens=1000,\n",
    "    requests_file_path=\"requests/gsm8k_requests_all_llama3_8b.jsonl\",\n",
    "    results_file_path=\"results/gsm8k_results_all_llama3_8b.jsonl\",\n",
    ")\n",
    "gsm8k_all_llama3_8b.write_requests_file()\n",
    "# gsm8k_all_llama3_8b.read_results_file()\n",
    "# gsm8k_all_llama3_8b.top1_acc()"
   ]
  },
  {
   "cell_type": "code",
   "execution_count": 106,
   "id": "0f24fa20",
   "metadata": {},
   "outputs": [
    {
     "data": {
      "image/png": "[encoded data removed]",
      "text/plain": [
       "<Figure size 640x480 with 1 Axes>"
      ]
     },
     "metadata": {},
     "output_type": "display_data"
    }
   ],
   "source": [
    "gsm8k_all_llama3_8b.plot_estimated_confidence_vs_accuracy()"
   ]
  },
  {
   "cell_type": "markdown",
   "id": "7f9fca00",
   "metadata": {},
   "source": [
    "## MATH (1000 Qs)"
   ]
  },
  {
   "cell_type": "code",
   "execution_count": 129,
   "id": "3e7746b8",
   "metadata": {},
   "outputs": [],
   "source": [
    "def extract_boxed_expression(input_string):\n",
    "    start_idx = input_string.find(r\"\\boxed{\")\n",
    "    if start_idx == -1:\n",
    "        return None\n",
    "\n",
    "    start_idx += len(r\"\\boxed{\")\n",
    "    brace_count = 1\n",
    "    result = []\n",
    "\n",
    "    for idx in range(start_idx, len(input_string)):\n",
    "        char = input_string[idx]\n",
    "        result.append(char)\n",
    "        \n",
    "        if char == '{':\n",
    "            brace_count += 1\n",
    "        elif char == '}':\n",
    "            brace_count -= 1\n",
    "            if brace_count == 0:\n",
    "                # We've found the closing brace for \\boxed{\n",
    "                return ''.join(result[:-1])  # Exclude the last closing brace\n",
    "    \n",
    "    return None\n",
    "\n",
    "def get_math_df(data_path, split):\n",
    "    jsons = []\n",
    "    for root, dirs, files in os.walk(os.path.join(data_path, split)):\n",
    "        for name in files:\n",
    "            if name.endswith((\".json\")):\n",
    "                full_path = os.path.join(root, name)\n",
    "                with open(full_path, \"r\") as f:\n",
    "                    jsons.append(json.load(f))\n",
    "    \n",
    "    df = pd.DataFrame.from_dict(jsons).rename(columns={'problem': 'question', 'solution': 'answer'})\n",
    "    df['q_id'] = df.index\n",
    "\n",
    "    return df\n",
    "\n",
    "def math_is_equiv(s1, s2):\n",
    "    return boxed_answer_is_equiv(extract_boxed_expression(s1), extract_boxed_expression(s2))\n",
    "\n",
    "def math_get_prompt_content(question, examples_text):\n",
    "    return (\n",
    "        \"Please answer the following question.\\n\\n\"\n",
    "        + f\"Question: {question}\\n\\n\"\n",
    "        + \"Please give your reasoning, then output your final answer inside \\\\boxed{}.\\n\\n\"\n",
    "        + f\"Examples:\\n\\n{examples_text}\"\n",
    "    )"
   ]
  },
  {
   "cell_type": "code",
   "execution_count": 130,
   "id": "88da8d66",
   "metadata": {},
   "outputs": [],
   "source": [
    "math_all = CalibrationDataset(\n",
    "    dataset_name=\"math_all\",\n",
    "    df = get_math_df(\"MATH/\", \"train\"),\n",
    "    is_equiv=math_is_equiv,\n",
    "    get_prompt_content=math_get_prompt_content,\n",
    "    seed=SEED,\n",
    ")"
   ]
  },
  {
   "cell_type": "code",
   "execution_count": 132,
   "id": "3aaf218d",
   "metadata": {},
   "outputs": [],
   "source": [
    "math_500q_llama3_8b = CalibrationRun(\n",
    "    dataset=math_all,\n",
    "    model_name=\"meta-llama/Meta-Llama-3-8B-Instruct\",\n",
    "    num_questions=500,\n",
    "    num_attempts_per_question=20,\n",
    "    num_shots=5,\n",
    "    max_response_tokens=5000,\n",
    "    requests_file_path=\"requests/math_requests_all_llama3_8b.jsonl\",\n",
    "    results_file_path=\"results/results_math_llama3_70b_500q_20a.jsonl\",\n",
    ")"
   ]
  },
  {
   "cell_type": "code",
   "execution_count": 133,
   "id": "8537bf26",
   "metadata": {},
   "outputs": [
    {
     "name": "stdout",
     "output_type": "stream",
     "text": [
      "Lines dropped: 1\n"
     ]
    },
    {
     "name": "stderr",
     "output_type": "stream",
     "text": [
      "100%|██████████| 9990/9990 [00:00<00:00, 109586.61it/s]\n"
     ]
    }
   ],
   "source": [
    "math_500q_llama3_8b.read_results_file()"
   ]
  },
  {
   "cell_type": "code",
   "execution_count": 136,
   "id": "de926280",
   "metadata": {},
   "outputs": [
    {
     "data": {
      "text/plain": [
       "\"Here's the solution to the problem:\\n\\nQuestion: Consider the function $g(x)=3x-4$.  What is $g(0)$?\\n\\nTo find $g(0)$, we need to substitute $x=0$ into the function $g(x)=3x-4$.\\n\\n$$g(0)=3(0)-4=-4$$\\n\\nSo, the final answer is:\\n\\n\\\\boxed{-4}\""
      ]
     },
     "execution_count": 136,
     "metadata": {},
     "output_type": "execute_result"
    }
   ],
   "source": [
    "math_500q_llama3_8b.results.attempt.iloc[0]"
   ]
  },
  {
   "cell_type": "code",
   "execution_count": null,
   "id": "9a4fa4e6",
   "metadata": {},
   "outputs": [],
   "source": []
  }
 ],
 "metadata": {
  "kernelspec": {
   "display_name": "Python 3 (ipykernel)",
   "language": "python",
   "name": "python3"
  },
  "language_info": {
   "codemirror_mode": {
    "name": "ipython",
    "version": 3
   },
   "file_extension": ".py",
   "mimetype": "text/x-python",
   "name": "python",
   "nbconvert_exporter": "python",
   "pygments_lexer": "ipython3",
   "version": "3.8.19"
  }
 },
 "nbformat": 4,
 "nbformat_minor": 5
}
