{
 "cells": [
  {
   "cell_type": "markdown",
   "id": "c6f7312a-c53a-4fb1-bfd6-1a6ba4915941",
   "metadata": {},
   "source": [
    "## Prelude"
   ]
  },
  {
   "cell_type": "code",
   "execution_count": 184,
   "id": "c2cddcdc-a39d-4bbe-87ff-ee0dc9eb6f33",
   "metadata": {},
   "outputs": [
    {
     "name": "stdout",
     "output_type": "stream",
     "text": [
      "Requirement already satisfied: datasets in /opt/anaconda3/envs/pytorch_env/lib/python3.8/site-packages (2.19.1)\n",
      "Requirement already satisfied: filelock in /opt/anaconda3/envs/pytorch_env/lib/python3.8/site-packages (from datasets) (3.13.1)\n",
      "Requirement already satisfied: numpy>=1.17 in /opt/anaconda3/envs/pytorch_env/lib/python3.8/site-packages (from datasets) (1.24.3)\n",
      "Requirement already satisfied: pyarrow>=12.0.0 in /opt/anaconda3/envs/pytorch_env/lib/python3.8/site-packages (from datasets) (16.1.0)\n",
      "Requirement already satisfied: pyarrow-hotfix in /opt/anaconda3/envs/pytorch_env/lib/python3.8/site-packages (from datasets) (0.6)\n",
      "Requirement already satisfied: dill<0.3.9,>=0.3.0 in /opt/anaconda3/envs/pytorch_env/lib/python3.8/site-packages (from datasets) (0.3.8)\n",
      "Requirement already satisfied: pandas in /opt/anaconda3/envs/pytorch_env/lib/python3.8/site-packages (from datasets) (2.0.3)\n",
      "Requirement already satisfied: requests>=2.19.0 in /opt/anaconda3/envs/pytorch_env/lib/python3.8/site-packages (from datasets) (2.31.0)\n",
      "Requirement already satisfied: tqdm>=4.62.1 in /opt/anaconda3/envs/pytorch_env/lib/python3.8/site-packages (from datasets) (4.66.4)\n",
      "Requirement already satisfied: xxhash in /opt/anaconda3/envs/pytorch_env/lib/python3.8/site-packages (from datasets) (3.4.1)\n",
      "Requirement already satisfied: multiprocess in /opt/anaconda3/envs/pytorch_env/lib/python3.8/site-packages (from datasets) (0.70.16)\n",
      "Requirement already satisfied: fsspec<=2024.3.1,>=2023.1.0 in /opt/anaconda3/envs/pytorch_env/lib/python3.8/site-packages (from fsspec[http]<=2024.3.1,>=2023.1.0->datasets) (2023.10.0)\n",
      "Requirement already satisfied: aiohttp in /opt/anaconda3/envs/pytorch_env/lib/python3.8/site-packages (from datasets) (3.9.5)\n",
      "Requirement already satisfied: huggingface-hub>=0.21.2 in /opt/anaconda3/envs/pytorch_env/lib/python3.8/site-packages (from datasets) (0.23.0)\n",
      "Requirement already satisfied: packaging in /opt/anaconda3/envs/pytorch_env/lib/python3.8/site-packages (from datasets) (23.2)\n",
      "Requirement already satisfied: pyyaml>=5.1 in /opt/anaconda3/envs/pytorch_env/lib/python3.8/site-packages (from datasets) (6.0.1)\n",
      "Requirement already satisfied: aiosignal>=1.1.2 in /opt/anaconda3/envs/pytorch_env/lib/python3.8/site-packages (from aiohttp->datasets) (1.3.1)\n",
      "Requirement already satisfied: attrs>=17.3.0 in /opt/anaconda3/envs/pytorch_env/lib/python3.8/site-packages (from aiohttp->datasets) (23.1.0)\n",
      "Requirement already satisfied: frozenlist>=1.1.1 in /opt/anaconda3/envs/pytorch_env/lib/python3.8/site-packages (from aiohttp->datasets) (1.4.1)\n",
      "Requirement already satisfied: multidict<7.0,>=4.5 in /opt/anaconda3/envs/pytorch_env/lib/python3.8/site-packages (from aiohttp->datasets) (6.0.5)\n",
      "Requirement already satisfied: yarl<2.0,>=1.0 in /opt/anaconda3/envs/pytorch_env/lib/python3.8/site-packages (from aiohttp->datasets) (1.9.4)\n",
      "Requirement already satisfied: async-timeout<5.0,>=4.0 in /opt/anaconda3/envs/pytorch_env/lib/python3.8/site-packages (from aiohttp->datasets) (4.0.3)\n",
      "Requirement already satisfied: typing-extensions>=3.7.4.3 in /opt/anaconda3/envs/pytorch_env/lib/python3.8/site-packages (from huggingface-hub>=0.21.2->datasets) (4.9.0)\n",
      "Requirement already satisfied: charset-normalizer<4,>=2 in /opt/anaconda3/envs/pytorch_env/lib/python3.8/site-packages (from requests>=2.19.0->datasets) (2.0.4)\n",
      "Requirement already satisfied: idna<4,>=2.5 in /opt/anaconda3/envs/pytorch_env/lib/python3.8/site-packages (from requests>=2.19.0->datasets) (3.4)\n",
      "Requirement already satisfied: urllib3<3,>=1.21.1 in /opt/anaconda3/envs/pytorch_env/lib/python3.8/site-packages (from requests>=2.19.0->datasets) (2.1.0)\n",
      "Requirement already satisfied: certifi>=2017.4.17 in /opt/anaconda3/envs/pytorch_env/lib/python3.8/site-packages (from requests>=2.19.0->datasets) (2024.2.2)\n",
      "Requirement already satisfied: python-dateutil>=2.8.2 in /opt/anaconda3/envs/pytorch_env/lib/python3.8/site-packages (from pandas->datasets) (2.8.2)\n",
      "Requirement already satisfied: pytz>=2020.1 in /opt/anaconda3/envs/pytorch_env/lib/python3.8/site-packages (from pandas->datasets) (2023.3.post1)\n",
      "Requirement already satisfied: tzdata>=2022.1 in /opt/anaconda3/envs/pytorch_env/lib/python3.8/site-packages (from pandas->datasets) (2024.1)\n",
      "Requirement already satisfied: six>=1.5 in /opt/anaconda3/envs/pytorch_env/lib/python3.8/site-packages (from python-dateutil>=2.8.2->pandas->datasets) (1.16.0)\n",
      "Note: you may need to restart the kernel to use updated packages.\n",
      "Requirement already satisfied: matplotlib in /opt/anaconda3/envs/pytorch_env/lib/python3.8/site-packages (3.7.5)\n",
      "Requirement already satisfied: contourpy>=1.0.1 in /opt/anaconda3/envs/pytorch_env/lib/python3.8/site-packages (from matplotlib) (1.1.1)\n",
      "Requirement already satisfied: cycler>=0.10 in /opt/anaconda3/envs/pytorch_env/lib/python3.8/site-packages (from matplotlib) (0.12.1)\n",
      "Requirement already satisfied: fonttools>=4.22.0 in /opt/anaconda3/envs/pytorch_env/lib/python3.8/site-packages (from matplotlib) (4.51.0)\n",
      "Requirement already satisfied: kiwisolver>=1.0.1 in /opt/anaconda3/envs/pytorch_env/lib/python3.8/site-packages (from matplotlib) (1.4.5)\n",
      "Requirement already satisfied: numpy<2,>=1.20 in /opt/anaconda3/envs/pytorch_env/lib/python3.8/site-packages (from matplotlib) (1.24.3)\n",
      "Requirement already satisfied: packaging>=20.0 in /opt/anaconda3/envs/pytorch_env/lib/python3.8/site-packages (from matplotlib) (23.2)\n",
      "Requirement already satisfied: pillow>=6.2.0 in /opt/anaconda3/envs/pytorch_env/lib/python3.8/site-packages (from matplotlib) (10.2.0)\n",
      "Requirement already satisfied: pyparsing>=2.3.1 in /opt/anaconda3/envs/pytorch_env/lib/python3.8/site-packages (from matplotlib) (3.1.2)\n",
      "Requirement already satisfied: python-dateutil>=2.7 in /opt/anaconda3/envs/pytorch_env/lib/python3.8/site-packages (from matplotlib) (2.8.2)\n",
      "Requirement already satisfied: importlib-resources>=3.2.0 in /opt/anaconda3/envs/pytorch_env/lib/python3.8/site-packages (from matplotlib) (6.1.1)\n",
      "Requirement already satisfied: zipp>=3.1.0 in /opt/anaconda3/envs/pytorch_env/lib/python3.8/site-packages (from importlib-resources>=3.2.0->matplotlib) (3.17.0)\n",
      "Requirement already satisfied: six>=1.5 in /opt/anaconda3/envs/pytorch_env/lib/python3.8/site-packages (from python-dateutil>=2.7->matplotlib) (1.16.0)\n",
      "Note: you may need to restart the kernel to use updated packages.\n",
      "Collecting piecewise-regression\n",
      "  Downloading piecewise_regression-1.5.0-py3-none-any.whl.metadata (975 bytes)\n",
      "Requirement already satisfied: numpy in /opt/anaconda3/envs/pytorch_env/lib/python3.8/site-packages (from piecewise-regression) (1.24.3)\n",
      "Requirement already satisfied: matplotlib in /opt/anaconda3/envs/pytorch_env/lib/python3.8/site-packages (from piecewise-regression) (3.7.5)\n",
      "Collecting scipy (from piecewise-regression)\n",
      "  Downloading scipy-1.10.1-cp38-cp38-macosx_12_0_arm64.whl.metadata (53 kB)\n",
      "\u001b[2K     \u001b[90m━━━━━━━━━━━━━━━━━━━━━━━━━━━━━━━━━━━━━━━━\u001b[0m \u001b[32m53.9/53.9 kB\u001b[0m \u001b[31m1.4 MB/s\u001b[0m eta \u001b[36m0:00:00\u001b[0m\n",
      "\u001b[?25hCollecting statsmodels (from piecewise-regression)\n",
      "  Downloading statsmodels-0.14.1-cp38-cp38-macosx_11_0_arm64.whl.metadata (9.5 kB)\n",
      "Requirement already satisfied: contourpy>=1.0.1 in /opt/anaconda3/envs/pytorch_env/lib/python3.8/site-packages (from matplotlib->piecewise-regression) (1.1.1)\n",
      "Requirement already satisfied: cycler>=0.10 in /opt/anaconda3/envs/pytorch_env/lib/python3.8/site-packages (from matplotlib->piecewise-regression) (0.12.1)\n",
      "Requirement already satisfied: fonttools>=4.22.0 in /opt/anaconda3/envs/pytorch_env/lib/python3.8/site-packages (from matplotlib->piecewise-regression) (4.51.0)\n",
      "Requirement already satisfied: kiwisolver>=1.0.1 in /opt/anaconda3/envs/pytorch_env/lib/python3.8/site-packages (from matplotlib->piecewise-regression) (1.4.5)\n",
      "Requirement already satisfied: packaging>=20.0 in /opt/anaconda3/envs/pytorch_env/lib/python3.8/site-packages (from matplotlib->piecewise-regression) (23.2)\n",
      "Requirement already satisfied: pillow>=6.2.0 in /opt/anaconda3/envs/pytorch_env/lib/python3.8/site-packages (from matplotlib->piecewise-regression) (10.2.0)\n",
      "Requirement already satisfied: pyparsing>=2.3.1 in /opt/anaconda3/envs/pytorch_env/lib/python3.8/site-packages (from matplotlib->piecewise-regression) (3.1.2)\n",
      "Requirement already satisfied: python-dateutil>=2.7 in /opt/anaconda3/envs/pytorch_env/lib/python3.8/site-packages (from matplotlib->piecewise-regression) (2.8.2)\n",
      "Requirement already satisfied: importlib-resources>=3.2.0 in /opt/anaconda3/envs/pytorch_env/lib/python3.8/site-packages (from matplotlib->piecewise-regression) (6.1.1)\n",
      "Requirement already satisfied: pandas!=2.1.0,>=1.0 in /opt/anaconda3/envs/pytorch_env/lib/python3.8/site-packages (from statsmodels->piecewise-regression) (2.0.3)\n",
      "Collecting patsy>=0.5.4 (from statsmodels->piecewise-regression)\n",
      "  Downloading patsy-0.5.6-py2.py3-none-any.whl.metadata (3.5 kB)\n",
      "Requirement already satisfied: zipp>=3.1.0 in /opt/anaconda3/envs/pytorch_env/lib/python3.8/site-packages (from importlib-resources>=3.2.0->matplotlib->piecewise-regression) (3.17.0)\n",
      "Requirement already satisfied: pytz>=2020.1 in /opt/anaconda3/envs/pytorch_env/lib/python3.8/site-packages (from pandas!=2.1.0,>=1.0->statsmodels->piecewise-regression) (2023.3.post1)\n",
      "Requirement already satisfied: tzdata>=2022.1 in /opt/anaconda3/envs/pytorch_env/lib/python3.8/site-packages (from pandas!=2.1.0,>=1.0->statsmodels->piecewise-regression) (2024.1)\n",
      "Requirement already satisfied: six in /opt/anaconda3/envs/pytorch_env/lib/python3.8/site-packages (from patsy>=0.5.4->statsmodels->piecewise-regression) (1.16.0)\n",
      "Downloading piecewise_regression-1.5.0-py3-none-any.whl (24 kB)\n",
      "Downloading scipy-1.10.1-cp38-cp38-macosx_12_0_arm64.whl (28.8 MB)\n",
      "\u001b[2K   \u001b[90m━━━━━━━━━━━━━━━━━━━━━━━━━━━━━━━━━━━━━━━━\u001b[0m \u001b[32m28.8/28.8 MB\u001b[0m \u001b[31m10.6 MB/s\u001b[0m eta \u001b[36m0:00:00\u001b[0m00:01\u001b[0m00:01\u001b[0m\n",
      "\u001b[?25hDownloading statsmodels-0.14.1-cp38-cp38-macosx_11_0_arm64.whl (10.1 MB)\n",
      "\u001b[2K   \u001b[90m━━━━━━━━━━━━━━━━━━━━━━━━━━━━━━━━━━━━━━━━\u001b[0m \u001b[32m10.1/10.1 MB\u001b[0m \u001b[31m9.1 MB/s\u001b[0m eta \u001b[36m0:00:00\u001b[0m00:01\u001b[0m0:01\u001b[0mm\n",
      "\u001b[?25hDownloading patsy-0.5.6-py2.py3-none-any.whl (233 kB)\n",
      "\u001b[2K   \u001b[90m━━━━━━━━━━━━━━━━━━━━━━━━━━━━━━━━━━━━━━━━\u001b[0m \u001b[32m233.9/233.9 kB\u001b[0m \u001b[31m7.5 MB/s\u001b[0m eta \u001b[36m0:00:00\u001b[0m\n",
      "\u001b[?25hInstalling collected packages: scipy, patsy, statsmodels, piecewise-regression\n",
      "Successfully installed patsy-0.5.6 piecewise-regression-1.5.0 scipy-1.10.1 statsmodels-0.14.1\n",
      "Note: you may need to restart the kernel to use updated packages.\n"
     ]
    }
   ],
   "source": [
    "%pip install datasets\n",
    "%pip install matplotlib\n",
    "%pip install piecewise-regression"
   ]
  },
  {
   "cell_type": "code",
   "execution_count": 219,
   "id": "96fc8848-7a28-4754-aca6-106d83640cb6",
   "metadata": {},
   "outputs": [],
   "source": [
    "import numpy as np\n",
    "import pandas as pd\n",
    "from tqdm import tqdm\n",
    "tqdm.pandas()\n",
    "import matplotlib.pyplot as plt\n",
    "import os\n",
    "import json\n",
    "import piecewise_regression\n",
    "\n",
    "from datasets import load_dataset\n",
    "\n",
    "from math import exp\n",
    "import glob"
   ]
  },
  {
   "cell_type": "code",
   "execution_count": 3,
   "id": "5804075e",
   "metadata": {},
   "outputs": [],
   "source": [
    "SEED = 42"
   ]
  },
  {
   "cell_type": "markdown",
   "id": "1015a5b1",
   "metadata": {},
   "source": [
    "### GSM8K-specific"
   ]
  },
  {
   "cell_type": "code",
   "execution_count": null,
   "id": "99e2080f",
   "metadata": {},
   "outputs": [],
   "source": [
    "gsm8k_df = pd.DataFrame(load_dataset(\"gsm8k\", \"main\")[\"test\"])"
   ]
  },
  {
   "cell_type": "markdown",
   "id": "9ff2f76c",
   "metadata": {},
   "source": [
    "### MATH-specific"
   ]
  },
  {
   "cell_type": "code",
   "execution_count": 4,
   "id": "abda6923",
   "metadata": {},
   "outputs": [
    {
     "name": "stdout",
     "output_type": "stream",
     "text": [
      "Collecting git+https://github.com/hendrycks/math.git\n",
      "  Cloning https://github.com/hendrycks/math.git to /private/var/folders/cd/tvz6m38s0sj69mjqw_mcf4sc0000gn/T/pip-req-build-p1oqjvvq\n",
      "  Running command git clone --filter=blob:none --quiet https://github.com/hendrycks/math.git /private/var/folders/cd/tvz6m38s0sj69mjqw_mcf4sc0000gn/T/pip-req-build-p1oqjvvq\n",
      "  Resolved https://github.com/hendrycks/math.git to commit 357963a7f5501a6c1708cf3f3fb0cdf525642761\n",
      "  Preparing metadata (setup.py) ... \u001b[?25ldone\n",
      "\u001b[?25hNote: you may need to restart the kernel to use updated packages.\n"
     ]
    }
   ],
   "source": [
    "%pip install git+https://github.com/hendrycks/math.git"
   ]
  },
  {
   "cell_type": "code",
   "execution_count": 5,
   "id": "eeb3870a",
   "metadata": {},
   "outputs": [],
   "source": [
    "from math_equivalence import is_equiv as boxed_answer_is_equiv"
   ]
  },
  {
   "cell_type": "markdown",
   "id": "38f0f2ce-b9c5-408b-a2a0-6d898c38b5f5",
   "metadata": {},
   "source": [
    "## CalibrationDataset and CalibrationRun class defs"
   ]
  },
  {
   "cell_type": "code",
   "execution_count": 221,
   "id": "a8a9943a-59c7-4520-8356-7591eabc464a",
   "metadata": {},
   "outputs": [],
   "source": [
    "class CalibrationDataset:\n",
    "    def __init__(\n",
    "        self,\n",
    "        dataset_name,\n",
    "        df,\n",
    "        is_equiv,\n",
    "        get_value_from_response,\n",
    "        get_prompt_content,\n",
    "        get_value_tokens_prob,\n",
    "        seed,\n",
    "    ):\n",
    "        self.dataset_name = dataset_name\n",
    "        self.df = df\n",
    "        self.is_equiv = is_equiv\n",
    "        self.get_value_from_response = get_value_from_response\n",
    "        self.get_prompt_content = get_prompt_content\n",
    "        self.get_value_tokens_prob = get_value_tokens_prob\n",
    "        self.seed = seed\n",
    "\n",
    "        self.df['q_id'] = self.df.index\n",
    "\n",
    "    def get_examples_text(self, num_shots):\n",
    "        return \"\\n\\n\".join(\n",
    "            self.df.sample(num_shots, random_state=self.seed)\n",
    "            .apply(lambda row: f\"Question: {row['question']}\\n\\nAnswer: {row['answer']}\", axis=1)\n",
    "        )"
   ]
  },
  {
   "cell_type": "code",
   "execution_count": 259,
   "id": "97282adf",
   "metadata": {},
   "outputs": [],
   "source": [
    "class CalibrationRun:\n",
    "    def __init__(\n",
    "        self,\n",
    "        dataset,\n",
    "        model_name,\n",
    "        num_questions,\n",
    "        num_attempts_per_question,\n",
    "        num_shots,\n",
    "        max_response_tokens,\n",
    "        requests_file_path,\n",
    "        results_file_pattern,\n",
    "    ):\n",
    "        self.dataset = dataset\n",
    "        self.model_name = model_name\n",
    "        self.num_questions = num_questions\n",
    "        self.num_attempts_per_question = num_attempts_per_question\n",
    "        self.num_shots = num_shots\n",
    "        self.max_response_tokens = max_response_tokens\n",
    "        self.requests_file_path = requests_file_path\n",
    "        self.results_file_pattern = results_file_pattern\n",
    "        self.results = None\n",
    "\n",
    "    def write_requests_file(self):\n",
    "        df = self.dataset.df.sample(self.num_questions, random_state=self.dataset.seed).copy()\n",
    "\n",
    "        att = pd.concat([df]*self.num_attempts_per_question, ignore_index=True)\n",
    "        with open(self.requests_file_path, \"w\") as f:\n",
    "            for index, row in att.iterrows():\n",
    "                dict_for_one_request = {\n",
    "                    \"custom_id\": f\"request_{index}_qid_{row.q_id}\",\n",
    "                    \"method\": \"POST\",\n",
    "                    \"url\": \"/v1/chat/completions\",\n",
    "                    \"body\": {\n",
    "                        \"model\": self.model_name,\n",
    "                        \"messages\": [\n",
    "                            {\"role\": \"system\", \"content\": \"You are a helpful assistant.\"},\n",
    "                            {\n",
    "                                \"role\": \"user\",\n",
    "                                \"content\": self.dataset.get_prompt_content(\n",
    "                                    question=row.question,\n",
    "                                    examples_text=self.dataset.get_examples_text(self.num_shots),\n",
    "                                )\n",
    "                            }\n",
    "                        ],\n",
    "                        \"max_tokens\": self.max_response_tokens,\n",
    "                        \"logprobs\": True,\n",
    "                        \"top_logprobs\": 1,\n",
    "                    }\n",
    "                }\n",
    "                print(json.dumps(dict_for_one_request), file=f)\n",
    "\n",
    "    def read_results_file(self):\n",
    "        def parse_json_string(line):\n",
    "            try:\n",
    "                return json.loads(line)\n",
    "            except ValueError:\n",
    "                return None\n",
    "        \n",
    "        lines = []\n",
    "\n",
    "        for file in glob.glob(self.results_file_pattern):\n",
    "            with open(file, \"r\") as f:\n",
    "                lines.extend([parse_json_string(line.rstrip()) for line in f])\n",
    "        \n",
    "        line_count = len(lines)\n",
    "        lines = [line for line in lines if line is not None]\n",
    "        lines_dropped = line_count - len(lines)\n",
    "        print(f\"Lines dropped: {lines_dropped}\")\n",
    "        df = pd.DataFrame.from_dict(lines)\n",
    "        df[\"q_id\"] = df[\"custom_id\"].str.split(\"_\").str[3].astype(int)\n",
    "        df[\"attempt\"] = df[\"response\"].apply(\n",
    "            lambda r: r['choices'][0]['message']['content']\n",
    "        )\n",
    "        df['attempt_value'] = df['attempt'].apply(self.dataset.get_value_from_response)\n",
    "        df['value_tokens_prob'] = df['response'].apply(lambda r: self.dataset.get_value_tokens_prob(r['choices'][0]['logprobs']))\n",
    "        df['all_tokens_logprob'] = df['response'].apply(lambda r: sum(r['choices'][0]['logprobs']['token_logprobs']))\n",
    "\n",
    "        df = (\n",
    "            df[['q_id', 'attempt', 'attempt_value', 'value_tokens_prob', 'all_tokens_logprob']]\n",
    "            .merge(self.dataset.df[['q_id', 'question', 'answer']], how='left', on='q_id')\n",
    "        )\n",
    "        df['correct'] = df.progress_apply(lambda row: 1 if self.dataset.is_equiv(row['attempt'], row['answer']) else 0, axis=1)\n",
    "\n",
    "        self.results = df\n",
    "\n",
    "    def get_confs(self, confidence_estimator):\n",
    "        assert self.results is not None, \"results not yet parsed\"\n",
    "        if confidence_estimator == \"sampled_conf\":\n",
    "            confs = (\n",
    "                self.results[['q_id', 'attempt_value', 'correct']]\n",
    "                .assign(sampled_conf=1/self.num_attempts_per_question)\n",
    "                .groupby(['q_id', 'attempt_value'])\n",
    "                .aggregate({'sampled_conf': 'sum', 'correct': 'mean'})\n",
    "                .reset_index()\n",
    "            )\n",
    "\n",
    "            idx = confs.groupby('q_id')['sampled_conf'].transform(\"max\") == confs['sampled_conf']\n",
    "            confs = confs[idx].groupby('q_id').first()\n",
    "\n",
    "        elif confidence_estimator ==  \"value_tokens_prob\":\n",
    "            confs = self.results[['q_id', 'value_tokens_prob', 'correct']]\n",
    "\n",
    "        elif confidence_estimator ==  \"all_tokens_logprob_conf\":\n",
    "            X = self.results[['all_tokens_logprob']].assign(ones=1).to_numpy()\n",
    "            y = self.results['correct'].to_numpy()\n",
    "            betas = np.linalg.inv(X.T @ X) @ X.T @ y\n",
    "            confs = self.results[['q_id', 'correct']].assign(all_tokens_logprob_conf = (X @ betas))\n",
    "\n",
    "        return confs\n",
    "    \n",
    "    def top1_acc(self):\n",
    "        return self.get_confs(confidence_estimator=\"sampled_conf\")['correct'].mean()\n",
    "    \n",
    "    def get_binned(self, confidence_estimator, qa_pairs_per_bin):\n",
    "        return (\n",
    "            self.get_confs(confidence_estimator)\n",
    "            .sort_values(confidence_estimator)\n",
    "            .reset_index(drop=True)\n",
    "            .assign(bin=lambda row: row.index // qa_pairs_per_bin)[['bin', confidence_estimator, 'correct']]\n",
    "            .groupby('bin')\n",
    "            .mean()\n",
    "        )\n",
    "\n",
    "    def plot_estimated_confidence_vs_accuracy(self, confidence_estimator, qa_pairs_per_bin=25):\n",
    "        binned = self.get_binned(confidence_estimator, qa_pairs_per_bin)\n",
    "        fig, ax = plt.subplots()\n",
    "        plt.xlim(0, 1)\n",
    "        plt.ylim(0, 1)\n",
    "        plt.scatter(binned[confidence_estimator], binned['correct'])\n",
    "        # ax.plot([0,1],[0,1], transform=ax.transAxes)\n",
    "\n",
    "        plt.title(f\"{self.model_name} calibration\\n({self.dataset.dataset_name} {self.num_shots}-shot, {self.num_questions} Qs, {self.num_attempts_per_question} attempts/Q)\")\n",
    "        plt.xlabel(confidence_estimator)\n",
    "        plt.ylabel('accuracy')\n",
    "\n",
    "        plt.show()"
   ]
  },
  {
   "cell_type": "code",
   "execution_count": 275,
   "id": "a4a3432a",
   "metadata": {},
   "outputs": [],
   "source": [
    "def cost_acc_curve_points(confidence_estimator, run1, run2, cost1, cost2):\n",
    "    run1_confs = run1.get_confs(confidence_estimator)\n",
    "    run2_acc = 0.88\n",
    "\n",
    "    curve_points = []\n",
    "    for conf_threshold in np.linspace(0, 1, 100):\n",
    "        attempts_meeting_conf_threshold = run1_confs[run1_confs[confidence_estimator] >= conf_threshold]\n",
    "        pct_meeting_conf_threshold = len(attempts_meeting_conf_threshold) / len(run1_confs)\n",
    "        cost = cost1 + cost2 * (1 - pct_meeting_conf_threshold)\n",
    "        acc = attempts_meeting_conf_threshold['correct'].mean() * pct_meeting_conf_threshold + (run2_acc - pct_meeting_conf_threshold)\n",
    "        curve_points.append((conf_threshold, cost, acc))\n",
    "\n",
    "    return pd.DataFrame(data=curve_points, columns=['conf_threshold', 'cost', 'acc'])"
   ]
  },
  {
   "cell_type": "markdown",
   "id": "297cb7d0",
   "metadata": {},
   "source": [
    "## GSM8K"
   ]
  },
  {
   "cell_type": "code",
   "execution_count": 233,
   "id": "67509811",
   "metadata": {},
   "outputs": [],
   "source": [
    "def gsm8k_str_to_num_parser(s : str) -> float:\n",
    "    if isinstance(s, float) or isinstance(s, int):\n",
    "        return s\n",
    "    try:\n",
    "        ending = s.split(\"####\")[-1]\n",
    "        strip_non_numbers = \"\".join((c for c in ending if (c in \"1234567890.-\")))\n",
    "        return float(strip_non_numbers)\n",
    "    except Exception as e:\n",
    "        return float(\"nan\")\n",
    "    \n",
    "def gsm8k_is_equiv(s1, s2):\n",
    "    return gsm8k_str_to_num_parser(s1) == gsm8k_str_to_num_parser(s2)\n",
    "    \n",
    "def gsm8k_get_prompt_content(question, examples_text):\n",
    "    return (\n",
    "        \"Please answer the following question.\\n\\n\"\n",
    "        + f\"Question: {question}\\n\\n\"\n",
    "        + \"Please give your reasoning, then output your final answer as a single number immediately preceded by #### with nothing after.\\n\\n\"\n",
    "        + f\"Examples:\\n\\n{examples_text}\"\n",
    "    )\n",
    "\n",
    "def gsm8k_get_tokens_prob(logprobs):\n",
    "    # TODO: assert that #### is in the logprobs\n",
    "    token_count = 0\n",
    "    for token in logprobs['tokens'][::-1][1:]:\n",
    "        if token == \"####\":\n",
    "            break\n",
    "        token_count += 1\n",
    "    tokens_prob = exp(sum(logprobs['token_logprobs'][-(token_count):-1]))\n",
    "    return tokens_prob"
   ]
  },
  {
   "cell_type": "code",
   "execution_count": 234,
   "id": "87a178d4",
   "metadata": {},
   "outputs": [],
   "source": [
    "gsm8k_all = CalibrationDataset(\n",
    "    dataset_name=\"gsm8k_all\",\n",
    "    df = gsm8k_df,\n",
    "    is_equiv = gsm8k_is_equiv,\n",
    "    get_value_from_response=gsm8k_str_to_num_parser,\n",
    "    get_prompt_content=gsm8k_get_prompt_content,\n",
    "    get_value_tokens_prob=gsm8k_get_tokens_prob,\n",
    "    seed=SEED,\n",
    ")"
   ]
  },
  {
   "cell_type": "markdown",
   "id": "bef322b2",
   "metadata": {},
   "source": [
    "### All 8B"
   ]
  },
  {
   "cell_type": "code",
   "execution_count": 260,
   "id": "a0bedbe0",
   "metadata": {},
   "outputs": [
    {
     "name": "stdout",
     "output_type": "stream",
     "text": [
      "Lines dropped: 0\n"
     ]
    },
    {
     "name": "stderr",
     "output_type": "stream",
     "text": [
      "100%|██████████| 26380/26380 [00:00<00:00, 152499.75it/s]\n"
     ]
    }
   ],
   "source": [
    "gsm8k_all_llama3_8b = CalibrationRun(\n",
    "    dataset=gsm8k_all,\n",
    "    model_name=\"meta-llama/Meta-Llama-3-8B-Instruct\",\n",
    "    num_questions=1319,\n",
    "    num_attempts_per_question=20,\n",
    "    num_shots=5,\n",
    "    max_response_tokens=1000,\n",
    "    requests_file_path=\"requests/gsm8k_all_llama3_8b.jsonl\",\n",
    "    results_file_pattern=\"results/gsm8k_all_llama3_8b.jsonl*\",\n",
    ")\n",
    "# gsm8k_all_llama3_8b.write_requests_file()\n",
    "gsm8k_all_llama3_8b.read_results_file()"
   ]
  },
  {
   "cell_type": "code",
   "execution_count": 261,
   "id": "40b3aae0",
   "metadata": {},
   "outputs": [
    {
     "data": {
      "text/html": [
       "<div>\n",
       "<style scoped>\n",
       "    .dataframe tbody tr th:only-of-type {\n",
       "        vertical-align: middle;\n",
       "    }\n",
       "\n",
       "    .dataframe tbody tr th {\n",
       "        vertical-align: top;\n",
       "    }\n",
       "\n",
       "    .dataframe thead th {\n",
       "        text-align: right;\n",
       "    }\n",
       "</style>\n",
       "<table border=\"1\" class=\"dataframe\">\n",
       "  <thead>\n",
       "    <tr style=\"text-align: right;\">\n",
       "      <th></th>\n",
       "      <th>q_id</th>\n",
       "      <th>correct</th>\n",
       "      <th>all_tokens_logprob_conf</th>\n",
       "    </tr>\n",
       "  </thead>\n",
       "  <tbody>\n",
       "    <tr>\n",
       "      <th>0</th>\n",
       "      <td>17</td>\n",
       "      <td>1</td>\n",
       "      <td>0.848119</td>\n",
       "    </tr>\n",
       "    <tr>\n",
       "      <th>1</th>\n",
       "      <td>127</td>\n",
       "      <td>1</td>\n",
       "      <td>0.954735</td>\n",
       "    </tr>\n",
       "    <tr>\n",
       "      <th>2</th>\n",
       "      <td>927</td>\n",
       "      <td>0</td>\n",
       "      <td>0.543067</td>\n",
       "    </tr>\n",
       "    <tr>\n",
       "      <th>3</th>\n",
       "      <td>980</td>\n",
       "      <td>1</td>\n",
       "      <td>0.852658</td>\n",
       "    </tr>\n",
       "    <tr>\n",
       "      <th>4</th>\n",
       "      <td>1316</td>\n",
       "      <td>1</td>\n",
       "      <td>0.789526</td>\n",
       "    </tr>\n",
       "    <tr>\n",
       "      <th>...</th>\n",
       "      <td>...</td>\n",
       "      <td>...</td>\n",
       "      <td>...</td>\n",
       "    </tr>\n",
       "    <tr>\n",
       "      <th>26375</th>\n",
       "      <td>729</td>\n",
       "      <td>1</td>\n",
       "      <td>0.774141</td>\n",
       "    </tr>\n",
       "    <tr>\n",
       "      <th>26376</th>\n",
       "      <td>401</td>\n",
       "      <td>1</td>\n",
       "      <td>0.799583</td>\n",
       "    </tr>\n",
       "    <tr>\n",
       "      <th>26377</th>\n",
       "      <td>702</td>\n",
       "      <td>1</td>\n",
       "      <td>0.888286</td>\n",
       "    </tr>\n",
       "    <tr>\n",
       "      <th>26378</th>\n",
       "      <td>1129</td>\n",
       "      <td>1</td>\n",
       "      <td>0.652609</td>\n",
       "    </tr>\n",
       "    <tr>\n",
       "      <th>26379</th>\n",
       "      <td>565</td>\n",
       "      <td>1</td>\n",
       "      <td>0.898301</td>\n",
       "    </tr>\n",
       "  </tbody>\n",
       "</table>\n",
       "<p>26380 rows × 3 columns</p>\n",
       "</div>"
      ],
      "text/plain": [
       "       q_id  correct  all_tokens_logprob_conf\n",
       "0        17        1                 0.848119\n",
       "1       127        1                 0.954735\n",
       "2       927        0                 0.543067\n",
       "3       980        1                 0.852658\n",
       "4      1316        1                 0.789526\n",
       "...     ...      ...                      ...\n",
       "26375   729        1                 0.774141\n",
       "26376   401        1                 0.799583\n",
       "26377   702        1                 0.888286\n",
       "26378  1129        1                 0.652609\n",
       "26379   565        1                 0.898301\n",
       "\n",
       "[26380 rows x 3 columns]"
      ]
     },
     "execution_count": 261,
     "metadata": {},
     "output_type": "execute_result"
    }
   ],
   "source": [
    "gsm8k_all_llama3_8b.get_confs(\"all_tokens_logprob_conf\")"
   ]
  },
  {
   "cell_type": "code",
   "execution_count": 263,
   "id": "a0056073",
   "metadata": {},
   "outputs": [
    {
     "data": {
      "image/png": "[encoded data removed]",
      "text/plain": [
       "<Figure size 640x480 with 1 Axes>"
      ]
     },
     "metadata": {},
     "output_type": "display_data"
    }
   ],
   "source": [
    "gsm8k_all_llama3_8b.plot_estimated_confidence_vs_accuracy(confidence_estimator=\"all_tokens_logprob_conf\", qa_pairs_per_bin=1000)"
   ]
  },
  {
   "cell_type": "code",
   "execution_count": 278,
   "id": "bdba1879",
   "metadata": {},
   "outputs": [
    {
     "data": {
      "text/plain": [
       "[<matplotlib.lines.Line2D at 0x3b46204f0>]"
      ]
     },
     "execution_count": 278,
     "metadata": {},
     "output_type": "execute_result"
    },
    {
     "data": {
      "image/png": "[encoded data removed]",
      "text/plain": [
       "<Figure size 640x480 with 1 Axes>"
      ]
     },
     "metadata": {},
     "output_type": "display_data"
    }
   ],
   "source": [
    "test = cost_acc_curve_points(\"all_tokens_logprob_conf\", gsm8k_all_llama3_8b, None, 0.12, 0.8)\n",
    "plt.plot(test['cost'], test['acc'])"
   ]
  },
  {
   "cell_type": "code",
   "execution_count": 277,
   "id": "63d27b44",
   "metadata": {},
   "outputs": [
    {
     "data": {
      "text/plain": [
       "[<matplotlib.lines.Line2D at 0x370c10820>]"
      ]
     },
     "execution_count": 277,
     "metadata": {},
     "output_type": "execute_result"
    },
    {
     "data": {
      "image/png": "[encoded data removed]",
      "text/plain": [
       "<Figure size 640x480 with 1 Axes>"
      ]
     },
     "metadata": {},
     "output_type": "display_data"
    }
   ],
   "source": []
  },
  {
   "cell_type": "markdown",
   "id": "195dfb2f",
   "metadata": {},
   "source": [
    "### All 70B"
   ]
  },
  {
   "cell_type": "code",
   "execution_count": null,
   "id": "427a1c24",
   "metadata": {},
   "outputs": [],
   "source": [
    "gsm8k_all_llama3_70b = CalibrationRun(\n",
    "    dataset=gsm8k_all,\n",
    "    model_name=\"meta-llama/Meta-Llama-3-70B-Instruct\",\n",
    "    num_questions=1319,\n",
    "    num_attempts_per_question=20,\n",
    "    num_shots=5,\n",
    "    max_response_tokens=1000,\n",
    "    requests_file_path=\"requests/gsm8k_all_llama3_70b.jsonl\",\n",
    "    results_file_path=\"results/gsm8k_all_llama3_70b.jsonl\",\n",
    ")\n",
    "gsm8k_all_llama3_70b.write_requests_file()\n",
    "# gsm8k_all_llama3_70b.read_results_file()"
   ]
  },
  {
   "cell_type": "markdown",
   "id": "2ea5027f",
   "metadata": {},
   "source": [
    "### Cost-Accuracy Tradeoff"
   ]
  },
  {
   "cell_type": "code",
   "execution_count": null,
   "id": "c4f78800",
   "metadata": {},
   "outputs": [],
   "source": []
  },
  {
   "cell_type": "markdown",
   "id": "73680833",
   "metadata": {},
   "source": [
    "### Other GSM8K"
   ]
  },
  {
   "cell_type": "code",
   "execution_count": 235,
   "id": "dbb8da9d",
   "metadata": {},
   "outputs": [
    {
     "name": "stdout",
     "output_type": "stream",
     "text": [
      "Lines dropped: 0\n"
     ]
    },
    {
     "name": "stderr",
     "output_type": "stream",
     "text": [
      "100%|██████████| 1000/1000 [00:00<00:00, 151075.32it/s]\n"
     ]
    },
    {
     "data": {
      "text/plain": [
       "0.88"
      ]
     },
     "execution_count": 235,
     "metadata": {},
     "output_type": "execute_result"
    }
   ],
   "source": [
    "gsm8k_50_llama3_8b = CalibrationRun(\n",
    "    dataset=gsm8k_all,\n",
    "    model_name=\"meta-llama/Meta-Llama-3-8B-Instruct\",\n",
    "    num_questions=50,\n",
    "    num_attempts_per_question=20,\n",
    "    num_shots=5,\n",
    "    max_response_tokens=1000,\n",
    "    requests_file_path=\"requests/gsm8k_50_llama3_8b.jsonl\",\n",
    "    results_file_pattern=\"results/gsm8k_50_llama3_8b.jsonl*\",\n",
    ")\n",
    "gsm8k_50_llama3_8b.write_requests_file()\n",
    "gsm8k_50_llama3_8b.read_results_file()\n",
    "gsm8k_50_llama3_8b.top1_acc()"
   ]
  },
  {
   "cell_type": "code",
   "execution_count": 216,
   "id": "70fe38ee",
   "metadata": {},
   "outputs": [
    {
     "data": {
      "text/html": [
       "<div>\n",
       "<style scoped>\n",
       "    .dataframe tbody tr th:only-of-type {\n",
       "        vertical-align: middle;\n",
       "    }\n",
       "\n",
       "    .dataframe tbody tr th {\n",
       "        vertical-align: top;\n",
       "    }\n",
       "\n",
       "    .dataframe thead th {\n",
       "        text-align: right;\n",
       "    }\n",
       "</style>\n",
       "<table border=\"1\" class=\"dataframe\">\n",
       "  <thead>\n",
       "    <tr style=\"text-align: right;\">\n",
       "      <th></th>\n",
       "      <th>all_tokens_logprob</th>\n",
       "      <th>correct</th>\n",
       "    </tr>\n",
       "    <tr>\n",
       "      <th>bin</th>\n",
       "      <th></th>\n",
       "      <th></th>\n",
       "    </tr>\n",
       "  </thead>\n",
       "  <tbody>\n",
       "    <tr>\n",
       "      <th>0</th>\n",
       "      <td>-62.635323</td>\n",
       "      <td>0.34</td>\n",
       "    </tr>\n",
       "    <tr>\n",
       "      <th>1</th>\n",
       "      <td>-46.345504</td>\n",
       "      <td>0.48</td>\n",
       "    </tr>\n",
       "    <tr>\n",
       "      <th>2</th>\n",
       "      <td>-39.694988</td>\n",
       "      <td>0.60</td>\n",
       "    </tr>\n",
       "    <tr>\n",
       "      <th>3</th>\n",
       "      <td>-35.652041</td>\n",
       "      <td>0.48</td>\n",
       "    </tr>\n",
       "    <tr>\n",
       "      <th>4</th>\n",
       "      <td>-32.447806</td>\n",
       "      <td>0.62</td>\n",
       "    </tr>\n",
       "    <tr>\n",
       "      <th>5</th>\n",
       "      <td>-29.782472</td>\n",
       "      <td>0.68</td>\n",
       "    </tr>\n",
       "    <tr>\n",
       "      <th>6</th>\n",
       "      <td>-27.189474</td>\n",
       "      <td>0.68</td>\n",
       "    </tr>\n",
       "    <tr>\n",
       "      <th>7</th>\n",
       "      <td>-25.286062</td>\n",
       "      <td>0.72</td>\n",
       "    </tr>\n",
       "    <tr>\n",
       "      <th>8</th>\n",
       "      <td>-23.675939</td>\n",
       "      <td>0.76</td>\n",
       "    </tr>\n",
       "    <tr>\n",
       "      <th>9</th>\n",
       "      <td>-22.224776</td>\n",
       "      <td>0.62</td>\n",
       "    </tr>\n",
       "    <tr>\n",
       "      <th>10</th>\n",
       "      <td>-20.787327</td>\n",
       "      <td>0.88</td>\n",
       "    </tr>\n",
       "    <tr>\n",
       "      <th>11</th>\n",
       "      <td>-19.312292</td>\n",
       "      <td>0.78</td>\n",
       "    </tr>\n",
       "    <tr>\n",
       "      <th>12</th>\n",
       "      <td>-17.489612</td>\n",
       "      <td>0.74</td>\n",
       "    </tr>\n",
       "    <tr>\n",
       "      <th>13</th>\n",
       "      <td>-15.975758</td>\n",
       "      <td>0.80</td>\n",
       "    </tr>\n",
       "    <tr>\n",
       "      <th>14</th>\n",
       "      <td>-14.556557</td>\n",
       "      <td>0.86</td>\n",
       "    </tr>\n",
       "    <tr>\n",
       "      <th>15</th>\n",
       "      <td>-13.267599</td>\n",
       "      <td>0.88</td>\n",
       "    </tr>\n",
       "    <tr>\n",
       "      <th>16</th>\n",
       "      <td>-11.826177</td>\n",
       "      <td>0.86</td>\n",
       "    </tr>\n",
       "    <tr>\n",
       "      <th>17</th>\n",
       "      <td>-10.043622</td>\n",
       "      <td>0.98</td>\n",
       "    </tr>\n",
       "    <tr>\n",
       "      <th>18</th>\n",
       "      <td>-7.725073</td>\n",
       "      <td>1.00</td>\n",
       "    </tr>\n",
       "    <tr>\n",
       "      <th>19</th>\n",
       "      <td>-4.375307</td>\n",
       "      <td>0.96</td>\n",
       "    </tr>\n",
       "  </tbody>\n",
       "</table>\n",
       "</div>"
      ],
      "text/plain": [
       "     all_tokens_logprob  correct\n",
       "bin                             \n",
       "0            -62.635323     0.34\n",
       "1            -46.345504     0.48\n",
       "2            -39.694988     0.60\n",
       "3            -35.652041     0.48\n",
       "4            -32.447806     0.62\n",
       "5            -29.782472     0.68\n",
       "6            -27.189474     0.68\n",
       "7            -25.286062     0.72\n",
       "8            -23.675939     0.76\n",
       "9            -22.224776     0.62\n",
       "10           -20.787327     0.88\n",
       "11           -19.312292     0.78\n",
       "12           -17.489612     0.74\n",
       "13           -15.975758     0.80\n",
       "14           -14.556557     0.86\n",
       "15           -13.267599     0.88\n",
       "16           -11.826177     0.86\n",
       "17           -10.043622     0.98\n",
       "18            -7.725073     1.00\n",
       "19            -4.375307     0.96"
      ]
     },
     "metadata": {},
     "output_type": "display_data"
    }
   ],
   "source": [
    "test = gsm8k_50_llama3_8b.get_binned(\"all_tokens_logprob\", qa_pairs_per_bin=50)\n",
    "display(test)\n",
    "pw_fit = piecewise_regression.Fit(np.array(test.all_tokens_logprob), np.array(test.correct), n_breakpoints=3)\n",
    "# gsm8k_50_llama3_8b.get_confs(\"tokens_prob\")\n",
    "# gsm8k_50_llama3_8b.plot_estimated_confidence_vs_accuracy(\"tokens_prob\")"
   ]
  },
  {
   "cell_type": "code",
   "execution_count": 218,
   "id": "a306d460",
   "metadata": {},
   "outputs": [
    {
     "data": {
      "image/png": "[encoded data removed]",
      "text/plain": [
       "<Figure size 640x480 with 1 Axes>"
      ]
     },
     "metadata": {},
     "output_type": "display_data"
    }
   ],
   "source": [
    "# pw_fit.summary()\n",
    "pw_fit.plot_data(color=\"grey\", s=20)\n",
    "# Pass in standard matplotlib keywords to control any of the plots\n",
    "pw_fit.plot_fit(color=\"red\", linewidth=4)\n",
    "pw_fit.plot_breakpoints()\n",
    "pw_fit.plot_breakpoint_confidence_intervals()\n",
    "plt.xlabel(\"x\")\n",
    "plt.ylabel(\"y\")\n",
    "plt.show()\n",
    "plt.close()"
   ]
  },
  {
   "cell_type": "code",
   "execution_count": 52,
   "id": "c5b665cd",
   "metadata": {},
   "outputs": [
    {
     "data": {
      "text/plain": [
       "<matplotlib.collections.PathCollection at 0x312e27280>"
      ]
     },
     "execution_count": 52,
     "metadata": {},
     "output_type": "execute_result"
    },
    {
     "data": {
      "image/png": "[encoded data removed]",
      "text/plain": [
       "<Figure size 640x480 with 1 Axes>"
      ]
     },
     "metadata": {},
     "output_type": "display_data"
    }
   ],
   "source": [
    "plt.scatter(\n",
    "    gsm8k_50_llama3_8b.results[['q_id', 'tokens_prob']].groupby('q_id').mean().tokens_prob,\n",
    "    gsm8k_50_llama3_8b.results[['q_id', 'correct']].groupby('q_id').mean().correct\n",
    ")"
   ]
  },
  {
   "cell_type": "code",
   "execution_count": 37,
   "id": "f8c3e562",
   "metadata": {},
   "outputs": [
    {
     "data": {
      "text/plain": [
       "[-0.2535925805568695,\n",
       " -0.974077045917511,\n",
       " -0.07889007776975632,\n",
       " -0.2032782882452011,\n",
       " -0.4744071960449219,\n",
       " -0.4198276698589325,\n",
       " 0.0,\n",
       " 0.0,\n",
       " 0.0,\n",
       " 0.0,\n",
       " -1.07287787614041e-05,\n",
       " -0.6931471824645996,\n",
       " 0.0,\n",
       " -6.079655122448457e-06,\n",
       " -0.0019286142196506262,\n",
       " -1.0132738680113107e-05,\n",
       " -0.0025414093397557735,\n",
       " 0.0,\n",
       " -2.145764938177308e-06,\n",
       " -0.10195835679769516,\n",
       " -0.00043072958942502737,\n",
       " 0.0,\n",
       " 0.0,\n",
       " -4.768370445162873e-07,\n",
       " -0.011594647541642189,\n",
       " 0.0,\n",
       " 0.0,\n",
       " 0.0,\n",
       " 0.0,\n",
       " -1.1920928244535389e-07,\n",
       " 0.0,\n",
       " -6.294052582234144e-05,\n",
       " 0.0,\n",
       " 0.0,\n",
       " 0.0,\n",
       " 0.0,\n",
       " 0.0,\n",
       " 0.0,\n",
       " 0.0,\n",
       " 0.0,\n",
       " -4.887569048150908e-06,\n",
       " 0.0,\n",
       " 0.0,\n",
       " -0.06198599189519882,\n",
       " -2.9801878554280847e-05,\n",
       " 0.0,\n",
       " -1.0728830375228426e-06,\n",
       " 0.0,\n",
       " -7.152531907195225e-06,\n",
       " 0.0,\n",
       " 0.0,\n",
       " -0.0297507643699646,\n",
       " -9.536738616588991e-07,\n",
       " 0.0,\n",
       " 0.0,\n",
       " -1.1324817933200393e-05,\n",
       " -0.0009274948388338089,\n",
       " -0.0005149707430973649,\n",
       " 0.0,\n",
       " 0.0,\n",
       " -5.1616290875244886e-05,\n",
       " 0.0,\n",
       " 0.0,\n",
       " 0.0,\n",
       " 0.0,\n",
       " 0.0,\n",
       " -1.490105023549404e-05,\n",
       " 0.0,\n",
       " -0.825977087020874,\n",
       " -2.0265558760002023e-06,\n",
       " -7.068861305015162e-05,\n",
       " -0.10024271160364151,\n",
       " 0.0,\n",
       " -1.1920928244535389e-07]"
      ]
     },
     "execution_count": 37,
     "metadata": {},
     "output_type": "execute_result"
    }
   ],
   "source": [
    "gsm8k_50_llama3_8b.results.response.iloc[2]['choices'][0]['logprobs']['token_logprobs']"
   ]
  },
  {
   "cell_type": "code",
   "execution_count": 178,
   "id": "b0448b10",
   "metadata": {},
   "outputs": [],
   "source": [
    "gsm8k_50_llama3_70b = CalibrationRun(\n",
    "    dataset=gsm8k_all,\n",
    "    model_name=\"meta-llama/Meta-Llama-3-70B-Instruct\",\n",
    "    num_questions=50,\n",
    "    num_attempts_per_question=20,\n",
    "    num_shots=5,\n",
    "    max_response_tokens=1000,\n",
    "    requests_file_path=\"requests/gsm8k_50_llama3_70b.jsonl\",\n",
    "    results_file_path=\"results/gsm8k_50_llama3_70b.jsonl\",\n",
    ")\n",
    "gsm8k_50_llama3_70b.write_requests_file()"
   ]
  },
  {
   "cell_type": "code",
   "execution_count": null,
   "id": "73f5df49",
   "metadata": {},
   "outputs": [],
   "source": [
    "# gsm8k_50_llama3_70b.read_results_file()\n",
    "# gsm8k_50_llama3_70b.top1_acc()"
   ]
  },
  {
   "cell_type": "code",
   "execution_count": 106,
   "id": "0f24fa20",
   "metadata": {},
   "outputs": [
    {
     "data": {
      "image/png": "[encoded data removed]",
      "text/plain": [
       "<Figure size 640x480 with 1 Axes>"
      ]
     },
     "metadata": {},
     "output_type": "display_data"
    }
   ],
   "source": [
    "gsm8k_all_llama3_8b.plot_estimated_confidence_vs_accuracy()"
   ]
  },
  {
   "cell_type": "code",
   "execution_count": 223,
   "id": "f7e16a49",
   "metadata": {},
   "outputs": [
    {
     "ename": "TypeError",
     "evalue": "__init__() got an unexpected keyword argument 'results_file_path'",
     "output_type": "error",
     "traceback": [
      "\u001b[0;31m---------------------------------------------------------------------------\u001b[0m",
      "\u001b[0;31mTypeError\u001b[0m                                 Traceback (most recent call last)",
      "Cell \u001b[0;32mIn[223], line 1\u001b[0m\n\u001b[0;32m----> 1\u001b[0m gsm8k_all_llama3_70b \u001b[38;5;241m=\u001b[39m \u001b[43mCalibrationRun\u001b[49m\u001b[43m(\u001b[49m\n\u001b[1;32m      2\u001b[0m \u001b[43m    \u001b[49m\u001b[43mdataset\u001b[49m\u001b[38;5;241;43m=\u001b[39;49m\u001b[43mgsm8k_all\u001b[49m\u001b[43m,\u001b[49m\n\u001b[1;32m      3\u001b[0m \u001b[43m    \u001b[49m\u001b[43mmodel_name\u001b[49m\u001b[38;5;241;43m=\u001b[39;49m\u001b[38;5;124;43m\"\u001b[39;49m\u001b[38;5;124;43mmeta-llama/Meta-Llama-3-70B-Instruct\u001b[39;49m\u001b[38;5;124;43m\"\u001b[39;49m\u001b[43m,\u001b[49m\n\u001b[1;32m      4\u001b[0m \u001b[43m    \u001b[49m\u001b[43mnum_questions\u001b[49m\u001b[38;5;241;43m=\u001b[39;49m\u001b[38;5;241;43m1319\u001b[39;49m\u001b[43m,\u001b[49m\n\u001b[1;32m      5\u001b[0m \u001b[43m    \u001b[49m\u001b[43mnum_attempts_per_question\u001b[49m\u001b[38;5;241;43m=\u001b[39;49m\u001b[38;5;241;43m20\u001b[39;49m\u001b[43m,\u001b[49m\n\u001b[1;32m      6\u001b[0m \u001b[43m    \u001b[49m\u001b[43mnum_shots\u001b[49m\u001b[38;5;241;43m=\u001b[39;49m\u001b[38;5;241;43m5\u001b[39;49m\u001b[43m,\u001b[49m\n\u001b[1;32m      7\u001b[0m \u001b[43m    \u001b[49m\u001b[43mmax_response_tokens\u001b[49m\u001b[38;5;241;43m=\u001b[39;49m\u001b[38;5;241;43m1000\u001b[39;49m\u001b[43m,\u001b[49m\n\u001b[1;32m      8\u001b[0m \u001b[43m    \u001b[49m\u001b[43mrequests_file_path\u001b[49m\u001b[38;5;241;43m=\u001b[39;49m\u001b[38;5;124;43m\"\u001b[39;49m\u001b[38;5;124;43mrequests/gsm8k_all_llama3_70b.jsonl\u001b[39;49m\u001b[38;5;124;43m\"\u001b[39;49m\u001b[43m,\u001b[49m\n\u001b[1;32m      9\u001b[0m \u001b[43m    \u001b[49m\u001b[43mresults_file_path\u001b[49m\u001b[38;5;241;43m=\u001b[39;49m\u001b[38;5;124;43m\"\u001b[39;49m\u001b[38;5;124;43mresults/gsm8k_all_llama3_70b.jsonl\u001b[39;49m\u001b[38;5;124;43m\"\u001b[39;49m\u001b[43m,\u001b[49m\n\u001b[1;32m     10\u001b[0m \u001b[43m)\u001b[49m\n\u001b[1;32m     11\u001b[0m gsm8k_all_llama3_70b\u001b[38;5;241m.\u001b[39mwrite_requests_file()\n",
      "\u001b[0;31mTypeError\u001b[0m: __init__() got an unexpected keyword argument 'results_file_path'"
     ]
    }
   ],
   "source": [
    "gsm8k_all_llama3_70b = CalibrationRun(\n",
    "    dataset=gsm8k_all,\n",
    "    model_name=\"meta-llama/Meta-Llama-3-70B-Instruct\",\n",
    "    num_questions=1319,\n",
    "    num_attempts_per_question=20,\n",
    "    num_shots=5,\n",
    "    max_response_tokens=1000,\n",
    "    requests_file_path=\"requests/gsm8k_all_llama3_70b.jsonl\",\n",
    "    results_file_path=\"results/gsm8k_all_llama3_70b.jsonl\",\n",
    ")\n",
    "gsm8k_all_llama3_70b.write_requests_file()\n",
    "# gsm8k_all_llama3_70b.read_results_file()"
   ]
  },
  {
   "cell_type": "markdown",
   "id": "7f9fca00",
   "metadata": {},
   "source": [
    "## MATH (1000 Qs)"
   ]
  },
  {
   "cell_type": "code",
   "execution_count": 167,
   "id": "3e7746b8",
   "metadata": {},
   "outputs": [],
   "source": [
    "def extract_boxed_expression(input_string):\n",
    "    start_idx = input_string.find(r\"\\boxed{\")\n",
    "    if start_idx == -1:\n",
    "        return None\n",
    "\n",
    "    start_idx += len(r\"\\boxed{\")\n",
    "    brace_count = 1\n",
    "    result = []\n",
    "\n",
    "    for idx in range(start_idx, len(input_string)):\n",
    "        char = input_string[idx]\n",
    "        result.append(char)\n",
    "        \n",
    "        if char == '{':\n",
    "            brace_count += 1\n",
    "        elif char == '}':\n",
    "            brace_count -= 1\n",
    "            if brace_count == 0:\n",
    "                # We've found the closing brace for \\boxed{\n",
    "                return ''.join(result[:-1])  # Exclude the last closing brace\n",
    "    \n",
    "    return None\n",
    "\n",
    "def get_math_df(data_path, split):\n",
    "    jsons = []\n",
    "    for root, dirs, files in os.walk(os.path.join(data_path, split)):\n",
    "        for name in files:\n",
    "            if name.endswith((\".json\")):\n",
    "                full_path = os.path.join(root, name)\n",
    "                with open(full_path, \"r\") as f:\n",
    "                    jsons.append(json.load(f))\n",
    "    \n",
    "    df = pd.DataFrame.from_dict(jsons).rename(columns={'problem': 'question', 'solution': 'answer'})\n",
    "    df['q_id'] = df.index\n",
    "\n",
    "    return df\n",
    "\n",
    "def math_is_equiv(s1, s2):\n",
    "    return boxed_answer_is_equiv(extract_boxed_expression(s1), extract_boxed_expression(s2))\n",
    "\n",
    "def math_get_prompt_content(question, examples_text):\n",
    "    return (\n",
    "        \"Please answer the following question.\\n\\n\"\n",
    "        + f\"Question: {question}\\n\\n\"\n",
    "        + \"Please give your reasoning, then output your final answer inside \\\\boxed{}.\\n\\n\"\n",
    "        + f\"Examples:\\n\\n{examples_text}\"\n",
    "    )"
   ]
  },
  {
   "cell_type": "code",
   "execution_count": 168,
   "id": "88da8d66",
   "metadata": {},
   "outputs": [],
   "source": [
    "math_all = CalibrationDataset(\n",
    "    dataset_name=\"math_all\",\n",
    "    df = get_math_df(\"MATH/\", \"test\"),\n",
    "    is_equiv=math_is_equiv,\n",
    "    get_prompt_content=math_get_prompt_content,\n",
    "    seed=SEED,\n",
    ")"
   ]
  },
  {
   "cell_type": "code",
   "execution_count": 169,
   "id": "3aaf218d",
   "metadata": {},
   "outputs": [],
   "source": [
    "math_500q_llama3_70b = CalibrationRun(\n",
    "    dataset=math_all,\n",
    "    model_name=\"meta-llama/Meta-Llama-3-70B-Instruct\",\n",
    "    num_questions=500,\n",
    "    num_attempts_per_question=20,\n",
    "    num_shots=5,\n",
    "    max_response_tokens=5000,\n",
    "    requests_file_path=\"requests/requests_math_llama3_70b_500q_20a.jsonl\",\n",
    "    results_file_path=\"results/results_math_llama3_70b_500q_20a.jsonl\",\n",
    ")"
   ]
  },
  {
   "cell_type": "code",
   "execution_count": 170,
   "id": "8537bf26",
   "metadata": {},
   "outputs": [
    {
     "name": "stdout",
     "output_type": "stream",
     "text": [
      "Lines dropped: 1\n"
     ]
    },
    {
     "name": "stderr",
     "output_type": "stream",
     "text": [
      "100%|██████████| 9990/9990 [00:00<00:00, 112360.99it/s]\n"
     ]
    }
   ],
   "source": [
    "math_500q_llama3_70b.read_results_file()"
   ]
  },
  {
   "cell_type": "code",
   "execution_count": 171,
   "id": "de926280",
   "metadata": {},
   "outputs": [
    {
     "data": {
      "text/plain": [
       "'Question: If $f(x)=ax^4-bx^2+x+5$ and $f(-3)=2,$ then what is the value of $f(3)$?\\n\\nWe are given that $f(x)=ax^4-bx^2+x+5$ and $f(-3)=2$.  We can substitute $x=-3$ into $f(x)$ to obtain \\\\begin{align*}\\nf(-3)&=a(-3)^4-b(-3)^2+(-3)+5\\\\\\\\\\n&=81a-9b-3+5\\\\\\\\\\n&=81a-9b+2.\\n\\\\end{align*}Since we know that $f(-3)=2$, we can solve for $a$ and $b$: \\\\begin{align*}\\n81a-9b+2&=2\\\\\\\\\\n\\\\Rightarrow\\\\qquad 81a-9b&=0.\\n\\\\end{align*}Now, we want to find the value of $f(3)$.  We have that \\\\begin{align*}\\nf(3)&=a(3)^4-b(3)^2+(3)+5\\\\\\\\\\n&=81a-9b+8.\\n\\\\end{align*}Using the fact that $81a-9b=0$, we see that $f(3)=0+8=\\\\boxed{8}.$\\n#### 8'"
      ]
     },
     "execution_count": 171,
     "metadata": {},
     "output_type": "execute_result"
    }
   ],
   "source": [
    "math_500q_llama3_70b.results.attempt.iloc[1]"
   ]
  },
  {
   "cell_type": "code",
   "execution_count": 172,
   "id": "e6b627f7",
   "metadata": {},
   "outputs": [
    {
     "data": {
      "image/png": "[encoded data removed]",
      "text/plain": [
       "<Figure size 640x480 with 1 Axes>"
      ]
     },
     "metadata": {},
     "output_type": "display_data"
    }
   ],
   "source": [
    "math_500q_llama3_70b.plot_estimated_confidence_vs_accuracy()"
   ]
  },
  {
   "cell_type": "code",
   "execution_count": null,
   "id": "51e4ff62",
   "metadata": {},
   "outputs": [],
   "source": []
  }
 ],
 "metadata": {
  "kernelspec": {
   "display_name": "Python 3 (ipykernel)",
   "language": "python",
   "name": "python3"
  },
  "language_info": {
   "codemirror_mode": {
    "name": "ipython",
    "version": 3
   },
   "file_extension": ".py",
   "mimetype": "text/x-python",
   "name": "python",
   "nbconvert_exporter": "python",
   "pygments_lexer": "ipython3",
   "version": "3.8.19"
  }
 },
 "nbformat": 4,
 "nbformat_minor": 5
}
